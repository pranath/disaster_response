{
 "cells": [
  {
   "cell_type": "markdown",
   "metadata": {},
   "source": [
    "# Disaster messages - Part 2 - Deep learning\n",
    "\n",
    "In an earlier __[project](https://github.com/pranath/disaster_response/blob/master/notebooks/MLPipelinePreparation.ipynb)__ I explored several conventional machine learning models in order to predict one of several categories for messages from disasters\n",
    "\n",
    "In this project I will try to predict categories for the same messages but using one of the most advanced deep learning models for text classification available using the fastai library.\n",
    "\n",
    "## Import libraries"
   ]
  },
  {
   "cell_type": "code",
   "execution_count": 1,
   "metadata": {},
   "outputs": [],
   "source": [
    "# Import libraries\n",
    "%reload_ext autoreload\n",
    "%autoreload 2\n",
    "%matplotlib inline\n",
    "\n",
    "import pandas as pd\n",
    "from fastai import *\n",
    "from fastai.text import *\n",
    "from sklearn.model_selection import train_test_split\n",
    "from sklearn.metrics import precision_score, recall_score, accuracy_score, f1_score\n",
    "from sklearn.metrics import classification_report"
   ]
  },
  {
   "cell_type": "markdown",
   "metadata": {},
   "source": [
    "## Prepare data"
   ]
  },
  {
   "cell_type": "code",
   "execution_count": 2,
   "metadata": {},
   "outputs": [
    {
     "data": {
      "text/html": [
       "<div>\n",
       "<style scoped>\n",
       "    .dataframe tbody tr th:only-of-type {\n",
       "        vertical-align: middle;\n",
       "    }\n",
       "\n",
       "    .dataframe tbody tr th {\n",
       "        vertical-align: top;\n",
       "    }\n",
       "\n",
       "    .dataframe thead th {\n",
       "        text-align: right;\n",
       "    }\n",
       "</style>\n",
       "<table border=\"1\" class=\"dataframe\">\n",
       "  <thead>\n",
       "    <tr style=\"text-align: right;\">\n",
       "      <th></th>\n",
       "      <th>tags</th>\n",
       "      <th>message</th>\n",
       "    </tr>\n",
       "  </thead>\n",
       "  <tbody>\n",
       "    <tr>\n",
       "      <td>0</td>\n",
       "      <td>related</td>\n",
       "      <td>Weather update - a cold front from Cuba that c...</td>\n",
       "    </tr>\n",
       "    <tr>\n",
       "      <td>1</td>\n",
       "      <td>related;aid_related;other_aid;weather_related;...</td>\n",
       "      <td>Is the Hurricane over or is it not over</td>\n",
       "    </tr>\n",
       "    <tr>\n",
       "      <td>2</td>\n",
       "      <td>related</td>\n",
       "      <td>Looking for someone but no name</td>\n",
       "    </tr>\n",
       "    <tr>\n",
       "      <td>3</td>\n",
       "      <td>related;request;aid_related;medical_products;o...</td>\n",
       "      <td>UN reports Leogane 80-90 destroyed. Only Hospi...</td>\n",
       "    </tr>\n",
       "    <tr>\n",
       "      <td>4</td>\n",
       "      <td>related</td>\n",
       "      <td>says: west side of Haiti, rest of the country ...</td>\n",
       "    </tr>\n",
       "  </tbody>\n",
       "</table>\n",
       "</div>"
      ],
      "text/plain": [
       "                                                tags  \\\n",
       "0                                            related   \n",
       "1  related;aid_related;other_aid;weather_related;...   \n",
       "2                                            related   \n",
       "3  related;request;aid_related;medical_products;o...   \n",
       "4                                            related   \n",
       "\n",
       "                                             message  \n",
       "0  Weather update - a cold front from Cuba that c...  \n",
       "1            Is the Hurricane over or is it not over  \n",
       "2                    Looking for someone but no name  \n",
       "3  UN reports Leogane 80-90 destroyed. Only Hospi...  \n",
       "4  says: west side of Haiti, rest of the country ...  "
      ]
     },
     "execution_count": 2,
     "metadata": {},
     "output_type": "execute_result"
    }
   ],
   "source": [
    "# Load data\n",
    "path = Path('data')\n",
    "df = pd.read_csv(path/'messages_disaster_clean.csv')\n",
    "df.head()"
   ]
  },
  {
   "cell_type": "code",
   "execution_count": 3,
   "metadata": {},
   "outputs": [
    {
     "data": {
      "text/plain": [
       "(26215, 2)"
      ]
     },
     "execution_count": 3,
     "metadata": {},
     "output_type": "execute_result"
    }
   ],
   "source": [
    "df.shape"
   ]
  },
  {
   "cell_type": "code",
   "execution_count": 28,
   "metadata": {},
   "outputs": [
    {
     "name": "stdout",
     "output_type": "stream",
     "text": [
      "<class 'pandas.core.frame.DataFrame'>\n",
      "RangeIndex: 26215 entries, 0 to 26214\n",
      "Data columns (total 2 columns):\n",
      "tags       20093 non-null object\n",
      "message    26215 non-null object\n",
      "dtypes: object(2)\n",
      "memory usage: 409.7+ KB\n"
     ]
    }
   ],
   "source": [
    "df.info()"
   ]
  },
  {
   "cell_type": "markdown",
   "metadata": {},
   "source": [
    "## Create language model\n",
    "\n",
    "For our deep learning classifier we are first going to create a language model. Our language model 'AWD_LSTM' will be a Recurrent neural network (RNN), that is implemented as a long short-term memory network (LSTM).\n",
    "\n",
    "The AWD_LSTM architecture is inspired by this __[paper](https://arxiv.org/abs/1708.02182)__.\n",
    "\n",
    "This model has been trained on several million wikipedia articles, and is able to predict the next word in a sequence given some starting words i.e. it is a pre-trained model.\n",
    "\n",
    "We will then use the first half of this pre-trained AWD_LSTM model, fine tune it on our dataset of disaster messages, and then chop of the first part of it to use it as the feature detector/first half of our classification model.\n",
    "\n",
    "We would hope then this gives our model a good understanding of text in general first, before being optimised for our own dataset in order to give it the best chance to classify our disaster messages correctly."
   ]
  },
  {
   "cell_type": "code",
   "execution_count": 4,
   "metadata": {},
   "outputs": [],
   "source": [
    "# Set batch size\n",
    "bs = 48"
   ]
  },
  {
   "cell_type": "code",
   "execution_count": 5,
   "metadata": {},
   "outputs": [],
   "source": [
    "# Create data object for our language model using whole dataset \n",
    "data_lm = (TextList.from_df(df, path, cols='message') \n",
    "                .random_split_by_pct(0.1) # Use most of dataset to train this langauge model\n",
    "                .label_for_lm() # LM creates its own labels from the text\n",
    "                .databunch(bs=bs))"
   ]
  },
  {
   "cell_type": "code",
   "execution_count": 6,
   "metadata": {},
   "outputs": [],
   "source": [
    "# Save for quick load when returning\n",
    "data_lm.save('data_lm.pkl')"
   ]
  },
  {
   "cell_type": "code",
   "execution_count": 5,
   "metadata": {},
   "outputs": [],
   "source": [
    "# Load language model data\n",
    "data_lm = load_data(path, 'data_lm.pkl', bs=bs)"
   ]
  },
  {
   "cell_type": "code",
   "execution_count": 8,
   "metadata": {},
   "outputs": [
    {
     "data": {
      "text/html": [
       "<table border=\"1\" class=\"dataframe\">\n",
       "  <thead>\n",
       "    <tr style=\"text-align: right;\">\n",
       "      <th>idx</th>\n",
       "      <th>text</th>\n",
       "    </tr>\n",
       "  </thead>\n",
       "  <tbody>\n",
       "    <tr>\n",
       "      <td>0</td>\n",
       "      <td>haiti , rest of the country today and tonight xxbos xxmaj storm at xxunk heart of jesus xxbos xxmaj please , we need tents and water . xxmaj we are in xxmaj silo , xxmaj thank you ! xxbos i would like to receive the messages , thank you xxbos i am in xxmaj croix - des - xxmaj bouquets . xxmaj we have health issues . xxmaj they (</td>\n",
       "    </tr>\n",
       "    <tr>\n",
       "      <td>1</td>\n",
       "      <td>, i found a large building on lamentin 54 that could be an hospital . .. please confirm . xxbos xxmaj asking for xxmaj water , xxmaj food and xxmaj tents xxbos xxmaj we need medicine for xxmaj hypertension and xxunk / pads and medicine for xxunk baby too . xxbos xxmaj need tents , water and food . xxmaj children are sick with fever . xxbos i am without</td>\n",
       "    </tr>\n",
       "    <tr>\n",
       "      <td>2</td>\n",
       "      <td>that . .. xxbos .. . zone xxmaj croix de xxmaj bouquets , i 'm asking please what i can do to get help especially a place to sleep with my children because my place . ... xxbos xxmaj hi , we are on xxmaj rte 9 , right after the xxmaj minustah xxmaj base , we have no water and food . xxmaj the way they distributed the supplies</td>\n",
       "    </tr>\n",
       "    <tr>\n",
       "      <td>3</td>\n",
       "      <td>to xxmaj digicel xxmaj organisation of young victims sou ray ( name of the main road closest to the sea in xxmaj carrefour . xxmaj we are a bunch of people who are victims of the catastrophe of xxmaj tuesday xxmaj january 12 xxbos xxmaj message important asking whether xxmaj haiti is under occupation xxbos i am from xxmaj port - au - xxmaj prince in the west . xxmaj</td>\n",
       "    </tr>\n",
       "    <tr>\n",
       "      <td>4</td>\n",
       "      <td>all in my area . xxbos xxmaj the hunger is killing us do something for us in xxmaj l'acul , xxmaj leogane xxbos you will never get hurt or xxunk in distribution of food in cite soleil xxbos xxmaj my family is in xxmaj delmas 14 and needs some aid . xxmaj they need food , water , and shelter . xxmaj my cousin has an infant who needs baby</td>\n",
       "    </tr>\n",
       "  </tbody>\n",
       "</table>"
      ],
      "text/plain": [
       "<IPython.core.display.HTML object>"
      ]
     },
     "metadata": {},
     "output_type": "display_data"
    }
   ],
   "source": [
    "# Have a quick look at how our messages have been automagically pre-processed / tokenised\n",
    "data_lm.show_batch()"
   ]
  },
  {
   "cell_type": "code",
   "execution_count": 9,
   "metadata": {},
   "outputs": [],
   "source": [
    "# Create pre-trained language model AWD_LSTM with our data\n",
    "learn_lm = language_model_learner(data_lm, AWD_LSTM, drop_mult=0.3)"
   ]
  },
  {
   "cell_type": "code",
   "execution_count": 10,
   "metadata": {},
   "outputs": [
    {
     "data": {
      "text/html": [],
      "text/plain": [
       "<IPython.core.display.HTML object>"
      ]
     },
     "metadata": {},
     "output_type": "display_data"
    },
    {
     "name": "stdout",
     "output_type": "stream",
     "text": [
      "LR Finder is complete, type {learner_name}.recorder.plot() to see the graph.\n"
     ]
    },
    {
     "data": {
      "image/png": "[encoded data removed]",
      "text/plain": [
       "<Figure size 432x288 with 1 Axes>"
      ]
     },
     "metadata": {
      "needs_background": "light"
     },
     "output_type": "display_data"
    }
   ],
   "source": [
    "# Find optimal learning rates\n",
    "learn_lm.lr_find()\n",
    "learn_lm.recorder.plot(skip_end=10)"
   ]
  },
  {
   "cell_type": "code",
   "execution_count": 11,
   "metadata": {},
   "outputs": [
    {
     "data": {
      "text/html": [
       "<table border=\"1\" class=\"dataframe\">\n",
       "  <thead>\n",
       "    <tr style=\"text-align: left;\">\n",
       "      <th>epoch</th>\n",
       "      <th>train_loss</th>\n",
       "      <th>valid_loss</th>\n",
       "      <th>accuracy</th>\n",
       "      <th>time</th>\n",
       "    </tr>\n",
       "  </thead>\n",
       "  <tbody>\n",
       "    <tr>\n",
       "      <td>0</td>\n",
       "      <td>3.947898</td>\n",
       "      <td>3.717568</td>\n",
       "      <td>0.325702</td>\n",
       "      <td>00:38</td>\n",
       "    </tr>\n",
       "  </tbody>\n",
       "</table>"
      ],
      "text/plain": [
       "<IPython.core.display.HTML object>"
      ]
     },
     "metadata": {},
     "output_type": "display_data"
    }
   ],
   "source": [
    "# Fit the last layers\n",
    "learn_lm.fit_one_cycle(1, 1e-2, moms=(0.8,0.7))"
   ]
  },
  {
   "cell_type": "code",
   "execution_count": 12,
   "metadata": {},
   "outputs": [],
   "source": [
    "# Save language model for quicker start when returning\n",
    "learn_lm.save('fit_head')"
   ]
  },
  {
   "cell_type": "code",
   "execution_count": 13,
   "metadata": {},
   "outputs": [
    {
     "data": {
      "text/plain": [
       "LanguageLearner(data=TextLMDataBunch;\n",
       "\n",
       "Train: LabelList (23594 items)\n",
       "x: LMTextList\n",
       "xxbos xxmaj weather update - a cold front from xxmaj cuba that could pass over xxmaj haiti,xxbos xxmaj is the xxmaj hurricane over or is it not over,xxbos xxmaj looking for someone but no name,xxbos xxup un reports xxmaj leogane 80 - 90 destroyed . xxmaj only xxmaj hospital xxmaj st. xxmaj croix functioning . xxmaj needs supplies desperately .,xxbos says : west side of xxmaj haiti , rest of the country today and tonight\n",
       "y: LMLabelList\n",
       ",,,,\n",
       "Path: data;\n",
       "\n",
       "Valid: LabelList (2621 items)\n",
       "x: LMTextList\n",
       "xxbos xxmaj back in xxmaj santiago from traveling the s of xxmaj chile in 2 days . xxunk traveled & visited 5 cities giving supplies .. xxmaj it 's amazing what you see !,xxbos willing to help in any way i can ; i do n't own a car but can drive and pack and xxunk and carry items . xxmaj can help with info , preparing food , etc .,xxbos xxmaj it was the only available but rather difficult option in the wake of harsh weather conditions including snow , heavy rains and landslides .,xxbos xxmaj mali was xxunk into chaos in 2012 when the xxup mnla launched an offensive in the northern desert helped by xxmaj islamist militants linked to xxmaj al - xxmaj qaeda who then cast aside the xxmaj tuareg rebels and took the region for themselves .,xxbos xxmaj extreme water shortage caused by two to three years of failed rains has killed huge numbers of farm animals and severely reduced crop production .\n",
       "y: LMLabelList\n",
       ",,,,\n",
       "Path: data;\n",
       "\n",
       "Test: None, model=SequentialRNN(\n",
       "  (0): AWD_LSTM(\n",
       "    (encoder): Embedding(11536, 400, padding_idx=1)\n",
       "    (encoder_dp): EmbeddingDropout(\n",
       "      (emb): Embedding(11536, 400, padding_idx=1)\n",
       "    )\n",
       "    (rnns): ModuleList(\n",
       "      (0): WeightDropout(\n",
       "        (module): LSTM(400, 1152, batch_first=True)\n",
       "      )\n",
       "      (1): WeightDropout(\n",
       "        (module): LSTM(1152, 1152, batch_first=True)\n",
       "      )\n",
       "      (2): WeightDropout(\n",
       "        (module): LSTM(1152, 400, batch_first=True)\n",
       "      )\n",
       "    )\n",
       "    (input_dp): RNNDropout()\n",
       "    (hidden_dps): ModuleList(\n",
       "      (0): RNNDropout()\n",
       "      (1): RNNDropout()\n",
       "      (2): RNNDropout()\n",
       "    )\n",
       "  )\n",
       "  (1): LinearDecoder(\n",
       "    (decoder): Linear(in_features=400, out_features=11536, bias=True)\n",
       "    (output_dp): RNNDropout()\n",
       "  )\n",
       "), opt_func=functools.partial(<class 'torch.optim.adam.Adam'>, betas=(0.9, 0.99)), loss_func=FlattenedLoss of CrossEntropyLoss(), metrics=[<function accuracy at 0x7f7c1813fef0>], true_wd=True, bn_wd=True, wd=0.01, train_bn=True, path=PosixPath('data'), model_dir='models', callback_fns=[functools.partial(<class 'fastai.basic_train.Recorder'>, add_time=True, silent=False)], callbacks=[RNNTrainer\n",
       "learn: ...\n",
       "alpha: 2.0\n",
       "beta: 1.0], layer_groups=[Sequential(\n",
       "  (0): WeightDropout(\n",
       "    (module): LSTM(400, 1152, batch_first=True)\n",
       "  )\n",
       "  (1): RNNDropout()\n",
       "), Sequential(\n",
       "  (0): WeightDropout(\n",
       "    (module): LSTM(1152, 1152, batch_first=True)\n",
       "  )\n",
       "  (1): RNNDropout()\n",
       "), Sequential(\n",
       "  (0): WeightDropout(\n",
       "    (module): LSTM(1152, 400, batch_first=True)\n",
       "  )\n",
       "  (1): RNNDropout()\n",
       "), Sequential(\n",
       "  (0): Embedding(11536, 400, padding_idx=1)\n",
       "  (1): EmbeddingDropout(\n",
       "    (emb): Embedding(11536, 400, padding_idx=1)\n",
       "  )\n",
       "  (2): LinearDecoder(\n",
       "    (decoder): Linear(in_features=400, out_features=11536, bias=True)\n",
       "    (output_dp): RNNDropout()\n",
       "  )\n",
       ")], add_time=True, silent=False)"
      ]
     },
     "execution_count": 13,
     "metadata": {},
     "output_type": "execute_result"
    }
   ],
   "source": [
    "# Load language model from this point\n",
    "learn_lm.load('fit_head')"
   ]
  },
  {
   "cell_type": "code",
   "execution_count": 14,
   "metadata": {},
   "outputs": [
    {
     "data": {
      "text/html": [
       "<table border=\"1\" class=\"dataframe\">\n",
       "  <thead>\n",
       "    <tr style=\"text-align: left;\">\n",
       "      <th>epoch</th>\n",
       "      <th>train_loss</th>\n",
       "      <th>valid_loss</th>\n",
       "      <th>accuracy</th>\n",
       "      <th>time</th>\n",
       "    </tr>\n",
       "  </thead>\n",
       "  <tbody>\n",
       "    <tr>\n",
       "      <td>0</td>\n",
       "      <td>3.503204</td>\n",
       "      <td>3.571204</td>\n",
       "      <td>0.341560</td>\n",
       "      <td>00:50</td>\n",
       "    </tr>\n",
       "    <tr>\n",
       "      <td>1</td>\n",
       "      <td>3.378392</td>\n",
       "      <td>3.490188</td>\n",
       "      <td>0.349952</td>\n",
       "      <td>00:51</td>\n",
       "    </tr>\n",
       "    <tr>\n",
       "      <td>2</td>\n",
       "      <td>3.097170</td>\n",
       "      <td>3.456255</td>\n",
       "      <td>0.357571</td>\n",
       "      <td>00:52</td>\n",
       "    </tr>\n",
       "    <tr>\n",
       "      <td>3</td>\n",
       "      <td>2.781008</td>\n",
       "      <td>3.477144</td>\n",
       "      <td>0.357262</td>\n",
       "      <td>00:52</td>\n",
       "    </tr>\n",
       "    <tr>\n",
       "      <td>4</td>\n",
       "      <td>2.577574</td>\n",
       "      <td>3.506318</td>\n",
       "      <td>0.356274</td>\n",
       "      <td>00:52</td>\n",
       "    </tr>\n",
       "  </tbody>\n",
       "</table>"
      ],
      "text/plain": [
       "<IPython.core.display.HTML object>"
      ]
     },
     "metadata": {},
     "output_type": "display_data"
    }
   ],
   "source": [
    "# Unfreeze other layers and train some more\n",
    "learn_lm.unfreeze()\n",
    "learn_lm.fit_one_cycle(5, 1e-3, moms=(0.8,0.7))"
   ]
  },
  {
   "cell_type": "markdown",
   "metadata": {},
   "source": [
    "The accuracy here is a measure of how well the model predicts the next word of all of the words in our messages, at around 35% accuracy our model is doing quite well!"
   ]
  },
  {
   "cell_type": "code",
   "execution_count": 15,
   "metadata": {},
   "outputs": [
    {
     "data": {
      "image/png": "[encoded data removed]",
      "text/plain": [
       "<Figure size 432x288 with 1 Axes>"
      ]
     },
     "metadata": {
      "needs_background": "light"
     },
     "output_type": "display_data"
    }
   ],
   "source": [
    "# Plot train v validation loss\n",
    "learn_lm.recorder.plot_losses()"
   ]
  },
  {
   "cell_type": "code",
   "execution_count": 16,
   "metadata": {},
   "outputs": [],
   "source": [
    "# Save our optimised model\n",
    "learn_lm.save('fine_tuned')"
   ]
  },
  {
   "cell_type": "code",
   "execution_count": 17,
   "metadata": {},
   "outputs": [],
   "source": [
    "# Save the first half of our model, the encoder - to use with our classifier\n",
    "learn_lm.save_encoder('fine_tuned_enc')"
   ]
  },
  {
   "cell_type": "markdown",
   "metadata": {},
   "source": [
    "The encoder is the first part of the language model, this is the part concerned with understanding the text so far (as opposed to the last part which aims to predict the next word). \n",
    "\n",
    "This is why we save the encoder, as it could most likely be useful for our classifier.\n",
    "\n",
    "## Create classifier model\n",
    "\n",
    "We will now create our message clasifier, making use of the encoder from our language model."
   ]
  },
  {
   "cell_type": "code",
   "execution_count": 6,
   "metadata": {},
   "outputs": [],
   "source": [
    "# Set batch size\n",
    "bs = 24"
   ]
  },
  {
   "cell_type": "code",
   "execution_count": 7,
   "metadata": {},
   "outputs": [],
   "source": [
    "# Define precison for our purposes\n",
    "def precision(log_preds, targs, thresh=0.5, epsilon=1e-8):\n",
    "    pred_pos = (log_preds > thresh).float()\n",
    "    tpos = torch.mul((targs == pred_pos).float(), targs.float())\n",
    "    return (tpos.sum()/(pred_pos.sum() + epsilon))#.item()"
   ]
  },
  {
   "cell_type": "code",
   "execution_count": 8,
   "metadata": {},
   "outputs": [],
   "source": [
    "# Define recall for our purposes\n",
    "def recall(log_preds, targs, thresh=0.5, epsilon=1e-8):\n",
    "    pred_pos = (log_preds > thresh).float()\n",
    "    tpos = torch.mul((targs == pred_pos).float(), targs.float())\n",
    "    return (tpos.sum()/(targs.sum() + epsilon))"
   ]
  },
  {
   "cell_type": "code",
   "execution_count": 9,
   "metadata": {},
   "outputs": [],
   "source": [
    "# Split data into train and validation\n",
    "X_train, X_test, y_train, y_test = train_test_split(df['message'], df['tags'], random_state=49)\n",
    "df_trn = pd.concat([X_train, y_train], axis=1)\n",
    "df_val = pd.concat([X_test, y_test], axis=1)"
   ]
  },
  {
   "cell_type": "code",
   "execution_count": 10,
   "metadata": {},
   "outputs": [
    {
     "name": "stdout",
     "output_type": "stream",
     "text": [
      "<class 'pandas.core.frame.DataFrame'>\n",
      "Int64Index: 19661 entries, 18830 to 426\n",
      "Data columns (total 2 columns):\n",
      "message    19661 non-null object\n",
      "tags       15088 non-null object\n",
      "dtypes: object(2)\n",
      "memory usage: 460.8+ KB\n"
     ]
    }
   ],
   "source": [
    "# Check for missing values\n",
    "df_trn.info()"
   ]
  },
  {
   "cell_type": "code",
   "execution_count": 11,
   "metadata": {},
   "outputs": [
    {
     "name": "stdout",
     "output_type": "stream",
     "text": [
      "<class 'pandas.core.frame.DataFrame'>\n",
      "Int64Index: 6554 entries, 7603 to 21079\n",
      "Data columns (total 2 columns):\n",
      "message    6554 non-null object\n",
      "tags       5005 non-null object\n",
      "dtypes: object(2)\n",
      "memory usage: 153.6+ KB\n"
     ]
    }
   ],
   "source": [
    "# Check for missing values\n",
    "df_val.info()"
   ]
  },
  {
   "cell_type": "code",
   "execution_count": 12,
   "metadata": {},
   "outputs": [],
   "source": [
    "# Drop missing values from train and validation sets\n",
    "df_trn = df_trn.dropna()\n",
    "df_val = df_val.dropna()"
   ]
  },
  {
   "cell_type": "code",
   "execution_count": 13,
   "metadata": {},
   "outputs": [],
   "source": [
    "# Create data object for our classifier with specific train & validation sets\n",
    "data_clas = TextClasDataBunch.from_df(path, train_df=df_trn, valid_df=df_val, \n",
    "                                  vocab=data_lm.vocab, # Use same vocab from our language model\n",
    "                                  text_cols='message', \n",
    "                                  label_cols='tags',\n",
    "                                  label_delim=';',\n",
    "                                  bs=bs)"
   ]
  },
  {
   "cell_type": "code",
   "execution_count": 14,
   "metadata": {},
   "outputs": [],
   "source": [
    "# Save our data object\n",
    "data_clas.save('tmp_clas')"
   ]
  },
  {
   "cell_type": "code",
   "execution_count": 15,
   "metadata": {},
   "outputs": [
    {
     "data": {
      "text/plain": [
       "RNNLearner(data=TextClasDataBunch;\n",
       "\n",
       "Train: LabelList (15088 items)\n",
       "x: TextList\n",
       "xxbos xxmaj photos on xxmaj china xxmaj news xxmaj service showed people in xxmaj fujian 's xxmaj xxunk county wearing xxunk and xxunk deep in water through flooded streets .,xxbos xxup ocha says a series of short - term measures need to be taken to improve conditions for the farmers , including the repair and maintenance of xxunk plants , the installation of manual pumps and increased capacity for stocking and treating water .,xxbos xxmaj seasonal downpours cause dozens of landslides and flash floods each year in xxmaj indonesia , where millions of people live in mountainous regions and near fertile flood plains close to rivers .,xxbos xxmaj in xxmaj xxunk , about 8 kms from xxmaj xxunk , at least 20 people drowned including a xxunk as a rescue boat capsized due to uncontrolled crowd and over loading .,xxbos xxmaj authorities have also rushed 180 medical teams comprising more than 1,000 doctors amid fears that crowded and unsanitary conditions could lead to outbreaks of cholera and diarrhoea .\n",
       "y: MultiCategoryList\n",
       "related;aid_related;search_and_rescue;weather_related;floods,related;aid_related;water,related;weather_related;floods;storm;earthquake,related;aid_related;medical_help;missing_people;death;transport;weather_related;floods,related;aid_related;medical_help\n",
       "Path: data;\n",
       "\n",
       "Valid: LabelList (5005 items)\n",
       "x: TextList\n",
       "xxbos we are xxunk by mouskitous , what can we do in that situation .,xxbos xxmaj niger state radio said that the xxmaj moroccan xxunk came to xxmaj niger to express his full solidarity with the country where three million people are suffering from hunger .,xxbos xxmaj xxunk have xxunk attacked xxunk in all three countries after being taken in by a variety of conspiracy xxunk , often xxunk the outbreak as a plot by the xxmaj west to murder xxmaj africans and harvest their organs .,xxbos xxmaj sandy is getting me xxunk shall be a special # xxmaj sandy show . xxmaj who 's xxunk .. the power is out # sandy,xxbos xxmaj only needs toddler clothes and food . xxmaj did n't fill out xxunk\n",
       "y: MultiCategoryList\n",
       "related;request;aid_related;other_aid,related;aid_related;food,related;aid_related;military,related;weather_related;storm;direct_report,related;request;aid_related;clothing\n",
       "Path: data;\n",
       "\n",
       "Test: None, model=SequentialRNN(\n",
       "  (0): MultiBatchEncoder(\n",
       "    (module): AWD_LSTM(\n",
       "      (encoder): Embedding(11536, 400, padding_idx=1)\n",
       "      (encoder_dp): EmbeddingDropout(\n",
       "        (emb): Embedding(11536, 400, padding_idx=1)\n",
       "      )\n",
       "      (rnns): ModuleList(\n",
       "        (0): WeightDropout(\n",
       "          (module): LSTM(400, 1152, batch_first=True)\n",
       "        )\n",
       "        (1): WeightDropout(\n",
       "          (module): LSTM(1152, 1152, batch_first=True)\n",
       "        )\n",
       "        (2): WeightDropout(\n",
       "          (module): LSTM(1152, 400, batch_first=True)\n",
       "        )\n",
       "      )\n",
       "      (input_dp): RNNDropout()\n",
       "      (hidden_dps): ModuleList(\n",
       "        (0): RNNDropout()\n",
       "        (1): RNNDropout()\n",
       "        (2): RNNDropout()\n",
       "      )\n",
       "    )\n",
       "  )\n",
       "  (1): PoolingLinearClassifier(\n",
       "    (layers): Sequential(\n",
       "      (0): BatchNorm1d(1200, eps=1e-05, momentum=0.1, affine=True, track_running_stats=True)\n",
       "      (1): Dropout(p=0.2, inplace=False)\n",
       "      (2): Linear(in_features=1200, out_features=50, bias=True)\n",
       "      (3): ReLU(inplace=True)\n",
       "      (4): BatchNorm1d(50, eps=1e-05, momentum=0.1, affine=True, track_running_stats=True)\n",
       "      (5): Dropout(p=0.1, inplace=False)\n",
       "      (6): Linear(in_features=50, out_features=35, bias=True)\n",
       "    )\n",
       "  )\n",
       "), opt_func=functools.partial(<class 'torch.optim.adam.Adam'>, betas=(0.9, 0.99)), loss_func=FlattenedLoss of BCEWithLogitsLoss(), metrics=[<function accuracy_thresh at 0x7f1c5d7dbb90>, <function precision at 0x7f1c59623200>, <function recall at 0x7f1c59623320>], true_wd=True, bn_wd=True, wd=0.01, train_bn=True, path=PosixPath('data'), model_dir='models', callback_fns=[functools.partial(<class 'fastai.basic_train.Recorder'>, add_time=True, silent=False)], callbacks=[RNNTrainer\n",
       "learn: ...\n",
       "alpha: 2.0\n",
       "beta: 1.0], layer_groups=[Sequential(\n",
       "  (0): Embedding(11536, 400, padding_idx=1)\n",
       "  (1): EmbeddingDropout(\n",
       "    (emb): Embedding(11536, 400, padding_idx=1)\n",
       "  )\n",
       "), Sequential(\n",
       "  (0): WeightDropout(\n",
       "    (module): LSTM(400, 1152, batch_first=True)\n",
       "  )\n",
       "  (1): RNNDropout()\n",
       "), Sequential(\n",
       "  (0): WeightDropout(\n",
       "    (module): LSTM(1152, 1152, batch_first=True)\n",
       "  )\n",
       "  (1): RNNDropout()\n",
       "), Sequential(\n",
       "  (0): WeightDropout(\n",
       "    (module): LSTM(1152, 400, batch_first=True)\n",
       "  )\n",
       "  (1): RNNDropout()\n",
       "), Sequential(\n",
       "  (0): PoolingLinearClassifier(\n",
       "    (layers): Sequential(\n",
       "      (0): BatchNorm1d(1200, eps=1e-05, momentum=0.1, affine=True, track_running_stats=True)\n",
       "      (1): Dropout(p=0.2, inplace=False)\n",
       "      (2): Linear(in_features=1200, out_features=50, bias=True)\n",
       "      (3): ReLU(inplace=True)\n",
       "      (4): BatchNorm1d(50, eps=1e-05, momentum=0.1, affine=True, track_running_stats=True)\n",
       "      (5): Dropout(p=0.1, inplace=False)\n",
       "      (6): Linear(in_features=50, out_features=35, bias=True)\n",
       "    )\n",
       "  )\n",
       ")], add_time=True, silent=False)"
      ]
     },
     "execution_count": 15,
     "metadata": {},
     "output_type": "execute_result"
    }
   ],
   "source": [
    "# Create our classifier model\n",
    "learn = text_classifier_learner(data_clas, AWD_LSTM, drop_mult=0.5)\n",
    "# Define metrics for training\n",
    "learn.metrics = [accuracy_thresh, precision, recall]\n",
    "# Load in the encoder of our language model\n",
    "learn.load_encoder('fine_tuned_enc')"
   ]
  },
  {
   "cell_type": "code",
   "execution_count": 55,
   "metadata": {},
   "outputs": [
    {
     "data": {
      "text/html": [
       "<table border=\"1\" class=\"dataframe\">\n",
       "  <thead>\n",
       "    <tr style=\"text-align: left;\">\n",
       "      <th>epoch</th>\n",
       "      <th>train_loss</th>\n",
       "      <th>valid_loss</th>\n",
       "      <th>accuracy_thresh</th>\n",
       "      <th>precision</th>\n",
       "      <th>recall</th>\n",
       "      <th>time</th>\n",
       "    </tr>\n",
       "  </thead>\n",
       "  <tbody>\n",
       "    <tr>\n",
       "      <td>0</td>\n",
       "      <td>0.201225</td>\n",
       "      <td>0.180335</td>\n",
       "      <td>0.934117</td>\n",
       "      <td>0.888722</td>\n",
       "      <td>0.492152</td>\n",
       "      <td>00:24</td>\n",
       "    </tr>\n",
       "  </tbody>\n",
       "</table>"
      ],
      "text/plain": [
       "<IPython.core.display.HTML object>"
      ]
     },
     "metadata": {},
     "output_type": "display_data"
    }
   ],
   "source": [
    "# Lets freeze the model so we start training the classifier on only the last layers\n",
    "learn.freeze()\n",
    "# Train the model\n",
    "learn.fit_one_cycle(1, 3e-2, moms=(0.8,0.7))"
   ]
  },
  {
   "cell_type": "code",
   "execution_count": 56,
   "metadata": {},
   "outputs": [],
   "source": [
    "# Save model at this point\n",
    "learn.save('first_factors')"
   ]
  },
  {
   "cell_type": "code",
   "execution_count": 23,
   "metadata": {},
   "outputs": [
    {
     "data": {
      "text/plain": [
       "RNNLearner(data=TextClasDataBunch;\n",
       "\n",
       "Train: LabelList (15088 items)\n",
       "x: TextList\n",
       "xxbos xxmaj photos on xxmaj china xxmaj news xxmaj service showed people in xxmaj fujian 's xxmaj xxunk county wearing xxunk and xxunk deep in water through flooded streets .,xxbos xxup ocha says a series of short - term measures need to be taken to improve conditions for the farmers , including the repair and maintenance of xxunk plants , the installation of manual pumps and increased capacity for stocking and treating water .,xxbos xxmaj seasonal downpours cause dozens of landslides and flash floods each year in xxmaj indonesia , where millions of people live in mountainous regions and near fertile flood plains close to rivers .,xxbos xxmaj in xxmaj xxunk , about 8 kms from xxmaj xxunk , at least 20 people drowned including a xxunk as a rescue boat capsized due to uncontrolled crowd and over loading .,xxbos xxmaj authorities have also rushed 180 medical teams comprising more than 1,000 doctors amid fears that crowded and unsanitary conditions could lead to outbreaks of cholera and diarrhoea .\n",
       "y: MultiCategoryList\n",
       "related;aid_related;search_and_rescue;weather_related;floods,related;aid_related;water,related;weather_related;floods;storm;earthquake,related;aid_related;medical_help;missing_people;death;transport;weather_related;floods,related;aid_related;medical_help\n",
       "Path: data;\n",
       "\n",
       "Valid: LabelList (5005 items)\n",
       "x: TextList\n",
       "xxbos we are xxunk by mouskitous , what can we do in that situation .,xxbos xxmaj niger state radio said that the xxmaj moroccan xxunk came to xxmaj niger to express his full solidarity with the country where three million people are suffering from hunger .,xxbos xxmaj xxunk have xxunk attacked xxunk in all three countries after being taken in by a variety of conspiracy xxunk , often xxunk the outbreak as a plot by the xxmaj west to murder xxmaj africans and harvest their organs .,xxbos xxmaj sandy is getting me xxunk shall be a special # xxmaj sandy show . xxmaj who 's xxunk .. the power is out # sandy,xxbos xxmaj only needs toddler clothes and food . xxmaj did n't fill out xxunk\n",
       "y: MultiCategoryList\n",
       "related;request;aid_related;other_aid,related;aid_related;food,related;aid_related;military,related;weather_related;storm;direct_report,related;request;aid_related;clothing\n",
       "Path: data;\n",
       "\n",
       "Test: None, model=SequentialRNN(\n",
       "  (0): MultiBatchEncoder(\n",
       "    (module): AWD_LSTM(\n",
       "      (encoder): Embedding(11536, 400, padding_idx=1)\n",
       "      (encoder_dp): EmbeddingDropout(\n",
       "        (emb): Embedding(11536, 400, padding_idx=1)\n",
       "      )\n",
       "      (rnns): ModuleList(\n",
       "        (0): WeightDropout(\n",
       "          (module): LSTM(400, 1152, batch_first=True)\n",
       "        )\n",
       "        (1): WeightDropout(\n",
       "          (module): LSTM(1152, 1152, batch_first=True)\n",
       "        )\n",
       "        (2): WeightDropout(\n",
       "          (module): LSTM(1152, 400, batch_first=True)\n",
       "        )\n",
       "      )\n",
       "      (input_dp): RNNDropout()\n",
       "      (hidden_dps): ModuleList(\n",
       "        (0): RNNDropout()\n",
       "        (1): RNNDropout()\n",
       "        (2): RNNDropout()\n",
       "      )\n",
       "    )\n",
       "  )\n",
       "  (1): PoolingLinearClassifier(\n",
       "    (layers): Sequential(\n",
       "      (0): BatchNorm1d(1200, eps=1e-05, momentum=0.1, affine=True, track_running_stats=True)\n",
       "      (1): Dropout(p=0.2, inplace=False)\n",
       "      (2): Linear(in_features=1200, out_features=50, bias=True)\n",
       "      (3): ReLU(inplace=True)\n",
       "      (4): BatchNorm1d(50, eps=1e-05, momentum=0.1, affine=True, track_running_stats=True)\n",
       "      (5): Dropout(p=0.1, inplace=False)\n",
       "      (6): Linear(in_features=50, out_features=35, bias=True)\n",
       "    )\n",
       "  )\n",
       "), opt_func=functools.partial(<class 'torch.optim.adam.Adam'>, betas=(0.9, 0.99)), loss_func=FlattenedLoss of BCEWithLogitsLoss(), metrics=[<function accuracy_thresh at 0x7f1c5d7dbb90>, <function precision at 0x7f1c59623200>, <function recall at 0x7f1c59623320>], true_wd=True, bn_wd=True, wd=0.01, train_bn=True, path=PosixPath('data'), model_dir='models', callback_fns=[functools.partial(<class 'fastai.basic_train.Recorder'>, add_time=True, silent=False)], callbacks=[RNNTrainer\n",
       "learn: ...\n",
       "alpha: 2.0\n",
       "beta: 1.0], layer_groups=[Sequential(\n",
       "  (0): Embedding(11536, 400, padding_idx=1)\n",
       "  (1): EmbeddingDropout(\n",
       "    (emb): Embedding(11536, 400, padding_idx=1)\n",
       "  )\n",
       "), Sequential(\n",
       "  (0): WeightDropout(\n",
       "    (module): LSTM(400, 1152, batch_first=True)\n",
       "  )\n",
       "  (1): RNNDropout()\n",
       "), Sequential(\n",
       "  (0): WeightDropout(\n",
       "    (module): LSTM(1152, 1152, batch_first=True)\n",
       "  )\n",
       "  (1): RNNDropout()\n",
       "), Sequential(\n",
       "  (0): WeightDropout(\n",
       "    (module): LSTM(1152, 400, batch_first=True)\n",
       "  )\n",
       "  (1): RNNDropout()\n",
       "), Sequential(\n",
       "  (0): PoolingLinearClassifier(\n",
       "    (layers): Sequential(\n",
       "      (0): BatchNorm1d(1200, eps=1e-05, momentum=0.1, affine=True, track_running_stats=True)\n",
       "      (1): Dropout(p=0.2, inplace=False)\n",
       "      (2): Linear(in_features=1200, out_features=50, bias=True)\n",
       "      (3): ReLU(inplace=True)\n",
       "      (4): BatchNorm1d(50, eps=1e-05, momentum=0.1, affine=True, track_running_stats=True)\n",
       "      (5): Dropout(p=0.1, inplace=False)\n",
       "      (6): Linear(in_features=50, out_features=35, bias=True)\n",
       "    )\n",
       "  )\n",
       ")], add_time=True, silent=False)"
      ]
     },
     "execution_count": 23,
     "metadata": {},
     "output_type": "execute_result"
    }
   ],
   "source": [
    "# Load model at this point\n",
    "learn.load('first_factors')"
   ]
  },
  {
   "cell_type": "code",
   "execution_count": 24,
   "metadata": {},
   "outputs": [
    {
     "data": {
      "text/html": [
       "<table border=\"1\" class=\"dataframe\">\n",
       "  <thead>\n",
       "    <tr style=\"text-align: left;\">\n",
       "      <th>epoch</th>\n",
       "      <th>train_loss</th>\n",
       "      <th>valid_loss</th>\n",
       "      <th>accuracy_thresh</th>\n",
       "      <th>precision</th>\n",
       "      <th>recall</th>\n",
       "      <th>time</th>\n",
       "    </tr>\n",
       "  </thead>\n",
       "  <tbody>\n",
       "    <tr>\n",
       "      <td>0</td>\n",
       "      <td>0.186708</td>\n",
       "      <td>0.170866</td>\n",
       "      <td>0.939718</td>\n",
       "      <td>0.879542</td>\n",
       "      <td>0.563686</td>\n",
       "      <td>00:38</td>\n",
       "    </tr>\n",
       "    <tr>\n",
       "      <td>1</td>\n",
       "      <td>0.175495</td>\n",
       "      <td>0.161384</td>\n",
       "      <td>0.943126</td>\n",
       "      <td>0.891711</td>\n",
       "      <td>0.582238</td>\n",
       "      <td>00:40</td>\n",
       "    </tr>\n",
       "  </tbody>\n",
       "</table>"
      ],
      "text/plain": [
       "<IPython.core.display.HTML object>"
      ]
     },
     "metadata": {},
     "output_type": "display_data"
    }
   ],
   "source": [
    "# Unfreeze last 2 layers, not whole model (works better than total unfreeze for text models)\n",
    "learn.freeze_to(-2)\n",
    "# Train some more\n",
    "learn.fit_one_cycle(2, slice(1e-2/(2.6**4),1e-2), moms=(0.8,0.7), wd=0.1)\n",
    "# Note 2.6**4! This seems to work well from text classification RNN models from experimentation by JH\n",
    "# Related: Some have used random forrest models to find most optimal hyper params like lr"
   ]
  },
  {
   "cell_type": "code",
   "execution_count": null,
   "metadata": {},
   "outputs": [],
   "source": [
    "# Save model at this point\n",
    "learn.save('second_factors')"
   ]
  },
  {
   "cell_type": "code",
   "execution_count": 16,
   "metadata": {},
   "outputs": [
    {
     "data": {
      "text/plain": [
       "RNNLearner(data=TextClasDataBunch;\n",
       "\n",
       "Train: LabelList (15088 items)\n",
       "x: TextList\n",
       "xxbos xxmaj photos on xxmaj china xxmaj news xxmaj service showed people in xxmaj fujian 's xxmaj xxunk county wearing xxunk and xxunk deep in water through flooded streets .,xxbos xxup ocha says a series of short - term measures need to be taken to improve conditions for the farmers , including the repair and maintenance of xxunk plants , the installation of manual pumps and increased capacity for stocking and treating water .,xxbos xxmaj seasonal downpours cause dozens of landslides and flash floods each year in xxmaj indonesia , where millions of people live in mountainous regions and near fertile flood plains close to rivers .,xxbos xxmaj in xxmaj xxunk , about 8 kms from xxmaj xxunk , at least 20 people drowned including a xxunk as a rescue boat capsized due to uncontrolled crowd and over loading .,xxbos xxmaj authorities have also rushed 180 medical teams comprising more than 1,000 doctors amid fears that crowded and unsanitary conditions could lead to outbreaks of cholera and diarrhoea .\n",
       "y: MultiCategoryList\n",
       "related;aid_related;search_and_rescue;weather_related;floods,related;aid_related;water,related;weather_related;floods;storm;earthquake,related;aid_related;medical_help;missing_people;death;transport;weather_related;floods,related;aid_related;medical_help\n",
       "Path: data;\n",
       "\n",
       "Valid: LabelList (5005 items)\n",
       "x: TextList\n",
       "xxbos we are xxunk by mouskitous , what can we do in that situation .,xxbos xxmaj niger state radio said that the xxmaj moroccan xxunk came to xxmaj niger to express his full solidarity with the country where three million people are suffering from hunger .,xxbos xxmaj xxunk have xxunk attacked xxunk in all three countries after being taken in by a variety of conspiracy xxunk , often xxunk the outbreak as a plot by the xxmaj west to murder xxmaj africans and harvest their organs .,xxbos xxmaj sandy is getting me xxunk shall be a special # xxmaj sandy show . xxmaj who 's xxunk .. the power is out # sandy,xxbos xxmaj only needs toddler clothes and food . xxmaj did n't fill out xxunk\n",
       "y: MultiCategoryList\n",
       "related;request;aid_related;other_aid,related;aid_related;food,related;aid_related;military,related;weather_related;storm;direct_report,related;request;aid_related;clothing\n",
       "Path: data;\n",
       "\n",
       "Test: None, model=SequentialRNN(\n",
       "  (0): MultiBatchEncoder(\n",
       "    (module): AWD_LSTM(\n",
       "      (encoder): Embedding(11536, 400, padding_idx=1)\n",
       "      (encoder_dp): EmbeddingDropout(\n",
       "        (emb): Embedding(11536, 400, padding_idx=1)\n",
       "      )\n",
       "      (rnns): ModuleList(\n",
       "        (0): WeightDropout(\n",
       "          (module): LSTM(400, 1152, batch_first=True)\n",
       "        )\n",
       "        (1): WeightDropout(\n",
       "          (module): LSTM(1152, 1152, batch_first=True)\n",
       "        )\n",
       "        (2): WeightDropout(\n",
       "          (module): LSTM(1152, 400, batch_first=True)\n",
       "        )\n",
       "      )\n",
       "      (input_dp): RNNDropout()\n",
       "      (hidden_dps): ModuleList(\n",
       "        (0): RNNDropout()\n",
       "        (1): RNNDropout()\n",
       "        (2): RNNDropout()\n",
       "      )\n",
       "    )\n",
       "  )\n",
       "  (1): PoolingLinearClassifier(\n",
       "    (layers): Sequential(\n",
       "      (0): BatchNorm1d(1200, eps=1e-05, momentum=0.1, affine=True, track_running_stats=True)\n",
       "      (1): Dropout(p=0.2, inplace=False)\n",
       "      (2): Linear(in_features=1200, out_features=50, bias=True)\n",
       "      (3): ReLU(inplace=True)\n",
       "      (4): BatchNorm1d(50, eps=1e-05, momentum=0.1, affine=True, track_running_stats=True)\n",
       "      (5): Dropout(p=0.1, inplace=False)\n",
       "      (6): Linear(in_features=50, out_features=35, bias=True)\n",
       "    )\n",
       "  )\n",
       "), opt_func=functools.partial(<class 'torch.optim.adam.Adam'>, betas=(0.9, 0.99)), loss_func=FlattenedLoss of BCEWithLogitsLoss(), metrics=[<function accuracy_thresh at 0x7f1c5d7dbb90>, <function precision at 0x7f1c59623200>, <function recall at 0x7f1c59623320>], true_wd=True, bn_wd=True, wd=0.01, train_bn=True, path=PosixPath('data'), model_dir='models', callback_fns=[functools.partial(<class 'fastai.basic_train.Recorder'>, add_time=True, silent=False)], callbacks=[RNNTrainer\n",
       "learn: ...\n",
       "alpha: 2.0\n",
       "beta: 1.0], layer_groups=[Sequential(\n",
       "  (0): Embedding(11536, 400, padding_idx=1)\n",
       "  (1): EmbeddingDropout(\n",
       "    (emb): Embedding(11536, 400, padding_idx=1)\n",
       "  )\n",
       "), Sequential(\n",
       "  (0): WeightDropout(\n",
       "    (module): LSTM(400, 1152, batch_first=True)\n",
       "  )\n",
       "  (1): RNNDropout()\n",
       "), Sequential(\n",
       "  (0): WeightDropout(\n",
       "    (module): LSTM(1152, 1152, batch_first=True)\n",
       "  )\n",
       "  (1): RNNDropout()\n",
       "), Sequential(\n",
       "  (0): WeightDropout(\n",
       "    (module): LSTM(1152, 400, batch_first=True)\n",
       "  )\n",
       "  (1): RNNDropout()\n",
       "), Sequential(\n",
       "  (0): PoolingLinearClassifier(\n",
       "    (layers): Sequential(\n",
       "      (0): BatchNorm1d(1200, eps=1e-05, momentum=0.1, affine=True, track_running_stats=True)\n",
       "      (1): Dropout(p=0.2, inplace=False)\n",
       "      (2): Linear(in_features=1200, out_features=50, bias=True)\n",
       "      (3): ReLU(inplace=True)\n",
       "      (4): BatchNorm1d(50, eps=1e-05, momentum=0.1, affine=True, track_running_stats=True)\n",
       "      (5): Dropout(p=0.1, inplace=False)\n",
       "      (6): Linear(in_features=50, out_features=35, bias=True)\n",
       "    )\n",
       "  )\n",
       ")], add_time=True, silent=False)"
      ]
     },
     "execution_count": 16,
     "metadata": {},
     "output_type": "execute_result"
    }
   ],
   "source": [
    "# Load model at this point\n",
    "learn.load('second_factors')"
   ]
  },
  {
   "cell_type": "code",
   "execution_count": 17,
   "metadata": {},
   "outputs": [
    {
     "data": {
      "text/html": [
       "<table border=\"1\" class=\"dataframe\">\n",
       "  <thead>\n",
       "    <tr style=\"text-align: left;\">\n",
       "      <th>epoch</th>\n",
       "      <th>train_loss</th>\n",
       "      <th>valid_loss</th>\n",
       "      <th>accuracy_thresh</th>\n",
       "      <th>precision</th>\n",
       "      <th>recall</th>\n",
       "      <th>time</th>\n",
       "    </tr>\n",
       "  </thead>\n",
       "  <tbody>\n",
       "    <tr>\n",
       "      <td>0</td>\n",
       "      <td>0.162541</td>\n",
       "      <td>0.156966</td>\n",
       "      <td>0.945878</td>\n",
       "      <td>0.874520</td>\n",
       "      <td>0.632789</td>\n",
       "      <td>01:12</td>\n",
       "    </tr>\n",
       "    <tr>\n",
       "      <td>1</td>\n",
       "      <td>0.164536</td>\n",
       "      <td>0.155622</td>\n",
       "      <td>0.946152</td>\n",
       "      <td>0.881230</td>\n",
       "      <td>0.622061</td>\n",
       "      <td>01:11</td>\n",
       "    </tr>\n",
       "  </tbody>\n",
       "</table>"
      ],
      "text/plain": [
       "<IPython.core.display.HTML object>"
      ]
     },
     "metadata": {},
     "output_type": "display_data"
    }
   ],
   "source": [
    "# Unfreeze whole model\n",
    "learn.unfreeze()\n",
    "# Train some more\n",
    "learn.fit_one_cycle(2, slice(1e-3/(2.6**4),1e-3), moms=(0.8,0.7), wd=0.1)"
   ]
  },
  {
   "cell_type": "code",
   "execution_count": 18,
   "metadata": {},
   "outputs": [],
   "source": [
    "# Predict on the validation dataset\n",
    "y_pred, y_true =  learn.get_preds()"
   ]
  },
  {
   "cell_type": "markdown",
   "metadata": {},
   "source": [
    "## Evaluate results"
   ]
  },
  {
   "cell_type": "code",
   "execution_count": 19,
   "metadata": {},
   "outputs": [
    {
     "data": {
      "text/plain": [
       "0.7499250374812594"
      ]
     },
     "execution_count": 19,
     "metadata": {},
     "output_type": "execute_result"
    }
   ],
   "source": [
    "# Get overall F1 score for predicting all classes\n",
    "f1_score(y_true, y_pred>0.35, average='micro')"
   ]
  },
  {
   "cell_type": "markdown",
   "metadata": {},
   "source": [
    "So in my earlier study our best overall F1 score was 0.41, 0.75 is a significant improvement!"
   ]
  },
  {
   "cell_type": "code",
   "execution_count": 20,
   "metadata": {},
   "outputs": [],
   "source": [
    "# Get numeric values\n",
    "y_true = y_true.numpy()\n",
    "scores = y_pred.numpy()"
   ]
  },
  {
   "cell_type": "code",
   "execution_count": 21,
   "metadata": {},
   "outputs": [
    {
     "data": {
      "text/plain": [
       "((5005, 35), (5005, 35))"
      ]
     },
     "execution_count": 21,
     "metadata": {},
     "output_type": "execute_result"
    }
   ],
   "source": [
    "# Check dimensions\n",
    "scores.shape, y_true.shape"
   ]
  },
  {
   "cell_type": "code",
   "execution_count": 22,
   "metadata": {},
   "outputs": [
    {
     "name": "stdout",
     "output_type": "stream",
     "text": [
      "                        precision    recall  f1-score   support\n",
      "\n",
      "           aid_centers       0.20      0.04      0.07        76\n",
      "           aid_related       0.69      0.90      0.78      2704\n",
      "             buildings       0.68      0.58      0.62       327\n",
      "              clothing       0.49      0.44      0.47        79\n",
      "                  cold       0.73      0.40      0.52       148\n",
      "                 death       0.76      0.52      0.62       304\n",
      "         direct_report       0.64      0.74      0.68      1251\n",
      "            earthquake       0.84      0.82      0.83       569\n",
      "           electricity       0.62      0.50      0.55       131\n",
      "                  fire       0.67      0.06      0.12        63\n",
      "                floods       0.71      0.63      0.67       550\n",
      "                  food       0.78      0.86      0.82       711\n",
      "             hospitals       0.50      0.07      0.13        67\n",
      "infrastructure_related       0.43      0.18      0.26       428\n",
      "          medical_help       0.59      0.44      0.51       508\n",
      "      medical_products       0.58      0.42      0.49       315\n",
      "              military       0.63      0.59      0.61       216\n",
      "        missing_people       0.12      0.01      0.03        69\n",
      "                 money       0.55      0.35      0.42       150\n",
      "                 offer       0.00      0.00      0.00        24\n",
      "             other_aid       0.48      0.40      0.43       865\n",
      "  other_infrastructure       0.39      0.14      0.20       281\n",
      "         other_weather       0.44      0.06      0.11       342\n",
      "              refugees       0.53      0.29      0.38       229\n",
      "               related       1.00      1.00      1.00      5005\n",
      "               request       0.70      0.79      0.74      1095\n",
      "     search_and_rescue       0.67      0.07      0.12       175\n",
      "              security       0.00      0.00      0.00       109\n",
      "               shelter       0.70      0.69      0.69       580\n",
      "                 shops       0.00      0.00      0.00        40\n",
      "                 storm       0.67      0.71      0.69       601\n",
      "                 tools       0.00      0.00      0.00        26\n",
      "             transport       0.65      0.30      0.41       306\n",
      "                 water       0.78      0.76      0.77       408\n",
      "       weather_related       0.83      0.83      0.83      1805\n",
      "\n",
      "             micro avg       0.77      0.73      0.75     20557\n",
      "             macro avg       0.54      0.42      0.45     20557\n",
      "          weighted avg       0.74      0.73      0.72     20557\n",
      "           samples avg       0.79      0.82      0.75     20557\n",
      "\n"
     ]
    },
    {
     "name": "stderr",
     "output_type": "stream",
     "text": [
      "/opt/anaconda3/lib/python3.7/site-packages/sklearn/metrics/classification.py:1437: UndefinedMetricWarning: Precision and F-score are ill-defined and being set to 0.0 in labels with no predicted samples.\n",
      "  'precision', 'predicted', average, warn_for)\n"
     ]
    }
   ],
   "source": [
    "# Print metrics for different classes predicted\n",
    "metrics = classification_report(y_true, scores>0.35, target_names=data_clas.valid_ds.classes)\n",
    "print(metrics)"
   ]
  },
  {
   "cell_type": "markdown",
   "metadata": {},
   "source": [
    "In the earlier study we looked at the top 12 predicted classes for our best model (Gradient Boosting), lets compare the results for these with our new deep learning model.\n",
    "\n",
    "\n",
    "| Category | Gradient Boosting - F1 | AWD_LSTM - F1|\n",
    "| --- | --- | --- |\n",
    "|earthquake | 0.79 | 0.83 |\n",
    "|food|0.76|0.82|\n",
    "|weather_related|0.71|0.83|\n",
    "|water|0.68|0.77|\n",
    "|floods|0.66|0.67|\n",
    "|shelter|0.64|0.69|\n",
    "|aid_related|0.64|0.78|\n",
    "|storm|0.61|0.69|\n",
    "|clothing|0.60|0.47|\n",
    "|cold|0.59|0.52|\n",
    "|request|0.55|0.74|\n",
    "|death|0.54|0.62|\n",
    "|direct_report|0.51|0.68|\n",
    "\n",
    "We can see the AWD_LSTM has a better score in most of these categories, as well as better scores overall on average.\n",
    "\n",
    "## Conclusion \n",
    "\n",
    "The deep learning model classifier AWD_LSTM seems to have made better predictions overall than the best of our previous model."
   ]
  }
 ],
 "metadata": {
  "kernelspec": {
   "display_name": "Python 3",
   "language": "python",
   "name": "python3"
  },
  "language_info": {
   "codemirror_mode": {
    "name": "ipython",
    "version": 3
   },
   "file_extension": ".py",
   "mimetype": "text/x-python",
   "name": "python",
   "nbconvert_exporter": "python",
   "pygments_lexer": "ipython3",
   "version": "3.6.8"
  }
 },
 "nbformat": 4,
 "nbformat_minor": 2
}
