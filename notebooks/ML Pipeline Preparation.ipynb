{
 "cells": [
  {
   "cell_type": "markdown",
   "metadata": {},
   "source": [
    "# ML Pipeline Preparation\n",
    "Follow the instructions below to help you create your ML pipeline.\n",
    "### 1. Import libraries and load data from database.\n",
    "- Import Python libraries\n",
    "- Load dataset from database with [`read_sql_table`](https://pandas.pydata.org/pandas-docs/stable/generated/pandas.read_sql_table.html)\n",
    "- Define feature and target variables X and Y"
   ]
  },
  {
   "cell_type": "code",
   "execution_count": 1,
   "metadata": {},
   "outputs": [
    {
     "name": "stdout",
     "output_type": "stream",
     "text": [
      "[nltk_data] Downloading package punkt to /root/nltk_data...\n",
      "[nltk_data]   Unzipping tokenizers/punkt.zip.\n",
      "[nltk_data] Downloading package wordnet to /root/nltk_data...\n",
      "[nltk_data]   Unzipping corpora/wordnet.zip.\n",
      "[nltk_data] Downloading package averaged_perceptron_tagger to\n",
      "[nltk_data]     /root/nltk_data...\n",
      "[nltk_data]   Unzipping taggers/averaged_perceptron_tagger.zip.\n"
     ]
    }
   ],
   "source": [
    "# import libraries\n",
    "import nltk\n",
    "nltk.download(['punkt', 'wordnet', 'averaged_perceptron_tagger'])\n",
    "\n",
    "import re\n",
    "import numpy as np\n",
    "import pandas as pd\n",
    "from nltk.tokenize import word_tokenize\n",
    "from nltk.stem import WordNetLemmatizer\n",
    "\n",
    "from sklearn.metrics import accuracy_score, precision_score, recall_score, f1_score\n",
    "from sklearn.metrics import classification_report\n",
    "from sklearn.model_selection import GridSearchCV\n",
    "from sklearn.ensemble import RandomForestClassifier, AdaBoostClassifier, GradientBoostingClassifier\n",
    "from sklearn.svm import SVC\n",
    "from sklearn.naive_bayes import MultinomialNB\n",
    "from sklearn.multioutput import MultiOutputClassifier\n",
    "from sklearn.model_selection import train_test_split\n",
    "from sklearn.pipeline import Pipeline, FeatureUnion\n",
    "from sklearn.base import BaseEstimator, TransformerMixin\n",
    "from sklearn.feature_extraction.text import CountVectorizer, TfidfTransformer\n",
    "from sklearn.utils import resample\n",
    "import sqlite3\n",
    "from sqlalchemy import create_engine\n",
    "import pickle\n",
    "from sklearn.externals import joblib\n",
    "%matplotlib inline"
   ]
  },
  {
   "cell_type": "code",
   "execution_count": 2,
   "metadata": {},
   "outputs": [],
   "source": [
    "# load data from database\n",
    "engine = create_engine('sqlite:///DisasterMessages.db')\n",
    "df = pd.read_sql_table('DisasterMessages', engine)\n",
    "target_names = ['related', 'request', 'offer', 'aid_related', 'medical_help', 'medical_products', 'search_and_rescue', 'security', 'military', 'water', 'food', 'shelter', 'clothing', 'money', 'missing_people', 'refugees', 'death', 'other_aid', 'infrastructure_related', 'transport', 'buildings', 'electricity', 'tools', 'hospitals', 'shops', 'aid_centers', 'other_infrastructure', 'weather_related', 'floods', 'storm', 'fire', 'earthquake', 'cold', 'other_weather', 'direct_report']\n",
    "X = df['message']\n",
    "Y = df[target_names]"
   ]
  },
  {
   "cell_type": "code",
   "execution_count": 3,
   "metadata": {},
   "outputs": [
    {
     "name": "stdout",
     "output_type": "stream",
     "text": [
      "Weather update - a cold front from Cuba that could pass over Haiti\n",
      "\n",
      "Is the Hurricane over or is it not over\n",
      "\n",
      "Looking for someone but no name\n",
      "\n",
      "UN reports Leogane 80-90 destroyed. Only Hospital St. Croix functioning. Needs supplies desperately.\n",
      "\n",
      "says: west side of Haiti, rest of the country today and tonight\n",
      "\n",
      "Information about the National Palace-\n",
      "\n",
      "Storm at sacred heart of jesus\n",
      "\n",
      "Please, we need tents and water. We are in Silo, Thank you!\n",
      "\n",
      "I would like to receive the messages, thank you\n",
      "\n",
      "I am in Croix-des-Bouquets. We have health issues. They ( workers ) are in Santo 15. ( an area in Croix-des-Bouquets )\n",
      "\n",
      "There's nothing to eat and water, we starving and thirsty.\n",
      "\n",
      "I am in Petionville. I need more information regarding 4636\n",
      "\n",
      "I am in Thomassin number 32, in the area named Pyron. I would like to have some water. Thank God we are fine, but we desperately need water. Thanks\n",
      "\n",
      "Let's do it together, need food in Delma 75, in didine area\n",
      "\n",
      "More information on the 4636 number in order for me to participate. ( To see if I can use it )\n",
      "\n",
      "A Comitee in Delmas 19, Rue ( street ) Janvier, Impasse Charite #2. We have about 500 people in a temporary shelter and we are in dire need of Water, Food, Medications, Tents and Clothes. Please stop by and see us.\n",
      "\n",
      "We need food and water in Klecin 12. We are dying of hunger. Impasse Chretien Klecin 12 extended ( extension ) We are hungry and sick.\n",
      "\n",
      "are you going to call me or do you want me to call ou? let me know?\n",
      "\n",
      "I don't understand how to use this thing 4636.\n",
      "\n",
      "I would like to know if the earthquake is over. Thanks\n",
      "\n"
     ]
    }
   ],
   "source": [
    "# Show 20 example messages\n",
    "pd.options.display.max_colwidth = 110\n",
    "for i in range(20):\n",
    "    print(X.iloc[i])\n",
    "    print('')"
   ]
  },
  {
   "cell_type": "markdown",
   "metadata": {},
   "source": [
    "### 2. Write a tokenization function to process your text data"
   ]
  },
  {
   "cell_type": "code",
   "execution_count": 4,
   "metadata": {},
   "outputs": [],
   "source": [
    "def tokenize(text):\n",
    "    # Remove punctuation characters\n",
    "    text = re.sub(r\"[^a-zA-Z0-9]\", \" \", text) \n",
    "    # Tokenise\n",
    "    tokens = word_tokenize(text)\n",
    "    # Create lemmatiser\n",
    "    lemmatizer = WordNetLemmatizer()\n",
    "\n",
    "    clean_tokens = []\n",
    "    # Lemmatize, standardise (lower case) & clean tokens\n",
    "    for tok in tokens:\n",
    "        clean_tok = lemmatizer.lemmatize(tok).lower().strip()\n",
    "        clean_tokens.append(clean_tok)\n",
    "\n",
    "    return clean_tokens"
   ]
  },
  {
   "cell_type": "markdown",
   "metadata": {},
   "source": [
    "### 3. Build a machine learning pipeline\n",
    "This machine pipeline should take in the `message` column as input and output classification results on the other 36 categories in the dataset. You may find the [MultiOutputClassifier](http://scikit-learn.org/stable/modules/generated/sklearn.multioutput.MultiOutputClassifier.html) helpful for predicting multiple target variables."
   ]
  },
  {
   "cell_type": "code",
   "execution_count": 5,
   "metadata": {},
   "outputs": [],
   "source": [
    "# Define ML pipeline\n",
    "pipeline = Pipeline([\n",
    "        ('vect', CountVectorizer(tokenizer=tokenize)),\n",
    "        ('tfidf', TfidfTransformer()),\n",
    "        ('clf', MultiOutputClassifier(SVC()))\n",
    "    ])"
   ]
  },
  {
   "cell_type": "markdown",
   "metadata": {},
   "source": [
    "### 4. Train pipeline\n",
    "- Split data into train and test sets\n",
    "- Train pipeline"
   ]
  },
  {
   "cell_type": "code",
   "execution_count": 6,
   "metadata": {},
   "outputs": [],
   "source": [
    "# Split data into train and test\n",
    "X_train, X_test, y_train, y_test = train_test_split(X, Y, random_state=49)\n",
    "\n",
    "# Train pipeline\n",
    "pipeline.fit(X_train, y_train)\n",
    "\n",
    "# predict on test data\n",
    "y_pred = pipeline.predict(X_test)\n",
    "\n",
    "# Re-structure returned numpy array as dataframe with same column names\n",
    "y_pred = pd.DataFrame(y_pred)\n",
    "y_pred.columns = target_names"
   ]
  },
  {
   "cell_type": "markdown",
   "metadata": {},
   "source": [
    "### 5. Test your model\n",
    "Report the f1 score, precision and recall for each output category of the dataset. You can do this by iterating through the columns and calling sklearn's `classification_report` on each."
   ]
  },
  {
   "cell_type": "code",
   "execution_count": 7,
   "metadata": {},
   "outputs": [],
   "source": [
    "def performance_report(actual, predicted, target_names):\n",
    "    \n",
    "    metrics = []\n",
    "    \n",
    "    # For each of the target features\n",
    "    for i in target_names:\n",
    "        # Calculate metrics\n",
    "        accuracy = accuracy_score(actual[i], predicted[i])\n",
    "        precision = precision_score(actual[i], predicted[i])\n",
    "        recall = recall_score(actual[i], predicted[i])\n",
    "        f1 = f1_score(actual[i], predicted[i])\n",
    "        # Save metrics\n",
    "        metrics.append([accuracy, precision, recall, f1])\n",
    "    \n",
    "    # Convert to numpy array\n",
    "    metrics = np.array(metrics)\n",
    "    # Convert to dataframe\n",
    "    metrics_df = pd.DataFrame(data = metrics, index = target_names, columns = ['Accuracy', 'Precision', 'Recall', 'F1'])\n",
    "    # Add mean\n",
    "    mean_acc = metrics_df['Accuracy'].mean()\n",
    "    mean_pre = metrics_df['Precision'].mean()\n",
    "    mean_rec = metrics_df['Recall'].mean()\n",
    "    mean_f1 = metrics_df['F1'].mean()\n",
    "    row = pd.Series({'Accuracy':mean_acc,'Precision':mean_pre,'Recall':mean_rec,'F1':mean_f1},name='MEAN SCORE')\n",
    "    metrics_df = metrics_df.append(row)\n",
    "    return metrics_df"
   ]
  },
  {
   "cell_type": "code",
   "execution_count": 8,
   "metadata": {},
   "outputs": [
    {
     "name": "stdout",
     "output_type": "stream",
     "text": [
      "                        Accuracy  Precision    Recall        F1\n",
      "related                 0.763656   0.763656  1.000000  0.865992\n",
      "request                 0.832926   0.000000  0.000000  0.000000\n",
      "offer                   0.996338   0.000000  0.000000  0.000000\n",
      "aid_related             0.587428   0.000000  0.000000  0.000000\n",
      "medical_help            0.922490   0.000000  0.000000  0.000000\n",
      "medical_products        0.951938   0.000000  0.000000  0.000000\n",
      "search_and_rescue       0.973299   0.000000  0.000000  0.000000\n",
      "security                0.983369   0.000000  0.000000  0.000000\n",
      "military                0.967043   0.000000  0.000000  0.000000\n",
      "water                   0.937748   0.000000  0.000000  0.000000\n",
      "food                    0.891517   0.000000  0.000000  0.000000\n",
      "shelter                 0.911504   0.000000  0.000000  0.000000\n",
      "clothing                0.987946   0.000000  0.000000  0.000000\n",
      "money                   0.977113   0.000000  0.000000  0.000000\n",
      "missing_people          0.989472   0.000000  0.000000  0.000000\n",
      "refugees                0.965060   0.000000  0.000000  0.000000\n",
      "death                   0.953616   0.000000  0.000000  0.000000\n",
      "other_aid               0.868020   0.000000  0.000000  0.000000\n",
      "infrastructure_related  0.934696   0.000000  0.000000  0.000000\n",
      "transport               0.953311   0.000000  0.000000  0.000000\n",
      "buildings               0.950107   0.000000  0.000000  0.000000\n",
      "electricity             0.980012   0.000000  0.000000  0.000000\n",
      "tools                   0.996033   0.000000  0.000000  0.000000\n",
      "hospitals               0.989777   0.000000  0.000000  0.000000\n",
      "shops                   0.993897   0.000000  0.000000  0.000000\n",
      "aid_centers             0.988404   0.000000  0.000000  0.000000\n",
      "other_infrastructure    0.957125   0.000000  0.000000  0.000000\n",
      "weather_related         0.724596   0.000000  0.000000  0.000000\n",
      "floods                  0.916082   0.000000  0.000000  0.000000\n",
      "storm                   0.908300   0.000000  0.000000  0.000000\n",
      "fire                    0.990388   0.000000  0.000000  0.000000\n",
      "earthquake              0.913183   0.000000  0.000000  0.000000\n",
      "cold                    0.977418   0.000000  0.000000  0.000000\n",
      "other_weather           0.947818   0.000000  0.000000  0.000000\n",
      "direct_report           0.809124   0.000000  0.000000  0.000000\n",
      "MEAN SCORE              0.925450   0.021819  0.028571  0.024743\n"
     ]
    },
    {
     "name": "stderr",
     "output_type": "stream",
     "text": [
      "/opt/conda/lib/python3.6/site-packages/sklearn/metrics/classification.py:1135: UndefinedMetricWarning: Precision is ill-defined and being set to 0.0 due to no predicted samples.\n",
      "  'precision', 'predicted', average, warn_for)\n",
      "/opt/conda/lib/python3.6/site-packages/sklearn/metrics/classification.py:1135: UndefinedMetricWarning: F-score is ill-defined and being set to 0.0 due to no predicted samples.\n",
      "  'precision', 'predicted', average, warn_for)\n"
     ]
    }
   ],
   "source": [
    "# Show metrics for each category\n",
    "print(performance_report(y_test, y_pred, target_names))"
   ]
  },
  {
   "cell_type": "markdown",
   "metadata": {},
   "source": [
    "So we can see the metric values vary considerably, this is probably due to the low number of examples for particular categories (as we can see from the warnings, some have no examples to test). In particular while accuracy is high, recall, precison and f1 scores are zero with this model."
   ]
  },
  {
   "cell_type": "markdown",
   "metadata": {},
   "source": [
    "### 6. Improve your model\n",
    "Use grid search to find better parameters. "
   ]
  },
  {
   "cell_type": "code",
   "execution_count": 9,
   "metadata": {},
   "outputs": [],
   "source": [
    "#parameters = {\n",
    "        #'vect__ngram_range': ((1, 2)),\n",
    "        #'vect__max_df': (0.5, 0.75, 1.0),\n",
    "        #'vect__max_features': (None, 5000, 10000),\n",
    "        #'tfidf__use_idf': (True, False),\n",
    "        #'clf__estimator__n_estimators':[15, 50], \n",
    "        #'clf__estimator__min_samples_split':[2, 5, 10]\n",
    "        #'vect__max_df': (0.5, 0.75),\n",
    "#}\n",
    "\n",
    "#cv = GridSearchCV(pipeline, param_grid=parameters)"
   ]
  },
  {
   "cell_type": "markdown",
   "metadata": {},
   "source": [
    "### 7. Test your model\n",
    "Show the accuracy, precision, and recall of the tuned model.  \n",
    "\n",
    "Since this project focuses on code quality, process, and  pipelines, there is no minimum performance metric needed to pass. However, make sure to fine tune your models for accuracy, precision and recall to make your project stand out - especially for your portfolio!"
   ]
  },
  {
   "cell_type": "code",
   "execution_count": 10,
   "metadata": {},
   "outputs": [],
   "source": [
    "# Train pipeline with grid search\n",
    "#cv.fit(X_train, y_train)\n",
    "\n",
    "# predict on test data\n",
    "#y_pred2 = cv.predict(X_test)\n",
    "\n",
    "# Re-structure returned numpy array as dataframe with same column names\n",
    "#y_pred2 = pd.DataFrame(y_pred2)\n",
    "#y_pred2.columns = target_names\n",
    "\n",
    "# Evaluate the model\n",
    "#evaluate_model(y_test, y_pred2, target_names)"
   ]
  },
  {
   "cell_type": "markdown",
   "metadata": {},
   "source": [
    "### 8. Try improving your model further. Here are a few ideas:\n",
    "\n",
    "Reading on various techniques in several articles including these:\n",
    "\n",
    "https://towardsdatascience.com/machine-learning-multiclass-classification-with-imbalanced-data-set-29f6a177c1a\n",
    "\n",
    "https://towardsdatascience.com/methods-for-dealing-with-imbalanced-data-5b761be45a18\n",
    "\n",
    "https://machinelearningmastery.com/tactics-to-combat-imbalanced-classes-in-your-machine-learning-dataset/\n",
    "\n",
    "I decided to try 3 approaches to try to improve results.\n",
    "\n",
    "- Oversampling minority categories in the data\n",
    "- Change model to Gradient Boosting \n",
    "- Add starting verb feature"
   ]
  },
  {
   "cell_type": "markdown",
   "metadata": {},
   "source": [
    "#### 8.1 Change model to Gradient Boost"
   ]
  },
  {
   "cell_type": "code",
   "execution_count": 11,
   "metadata": {},
   "outputs": [
    {
     "name": "stdout",
     "output_type": "stream",
     "text": [
      "                        Accuracy  Precision    Recall        F1\n",
      "related                 0.795392   0.801812  0.972428  0.878916\n",
      "request                 0.903570   0.838946  0.523288  0.644544\n",
      "offer                   0.992218   0.000000  0.000000  0.000000\n",
      "aid_related             0.758773   0.804997  0.548077  0.652145\n",
      "medical_help            0.928746   0.625767  0.200787  0.304024\n",
      "medical_products        0.961245   0.704698  0.333333  0.452586\n",
      "search_and_rescue       0.970095   0.387097  0.205714  0.268657\n",
      "security                0.975435   0.080645  0.045872  0.058480\n",
      "military                0.968874   0.571429  0.222222  0.320000\n",
      "water                   0.963381   0.738636  0.637255  0.684211\n",
      "food                    0.955294   0.800287  0.783404  0.791756\n",
      "shelter                 0.947971   0.799499  0.550000  0.651685\n",
      "clothing                0.987641   0.489130  0.569620  0.526316\n",
      "money                   0.975282   0.409091  0.180000  0.250000\n",
      "missing_people          0.985352   0.245283  0.188406  0.213115\n",
      "refugees                0.963534   0.460938  0.257642  0.330532\n",
      "death                   0.966738   0.704762  0.486842  0.575875\n",
      "other_aid               0.873360   0.647059  0.089017  0.156504\n",
      "infrastructure_related  0.935917   0.633333  0.044393  0.082969\n",
      "transport               0.954532   0.532258  0.215686  0.306977\n",
      "buildings               0.957888   0.691729  0.281346  0.400000\n",
      "electricity             0.979249   0.464789  0.251908  0.326733\n",
      "tools                   0.992218   0.000000  0.000000  0.000000\n",
      "hospitals               0.984590   0.113636  0.074627  0.090090\n",
      "shops                   0.990235   0.038462  0.025000  0.030303\n",
      "aid_centers             0.983369   0.133333  0.078947  0.099174\n",
      "other_infrastructure    0.955752   0.304348  0.024911  0.046053\n",
      "weather_related         0.871071   0.872671  0.622715  0.726802\n",
      "floods                  0.957125   0.876751  0.569091  0.690187\n",
      "storm                   0.943699   0.732000  0.608985  0.664850\n",
      "fire                    0.987489   0.369863  0.428571  0.397059\n",
      "earthquake              0.970095   0.830088  0.824253  0.827160\n",
      "cold                    0.979860   0.576923  0.405405  0.476190\n",
      "other_weather           0.949039   0.543478  0.146199  0.230415\n",
      "direct_report           0.872597   0.801449  0.442046  0.569809\n",
      "MEAN SCORE              0.946789   0.532148  0.338228  0.392118\n"
     ]
    }
   ],
   "source": [
    "# Define ML pipeline\n",
    "pipeline2 = Pipeline([\n",
    "        ('vect', CountVectorizer(tokenizer=tokenize)),\n",
    "        ('tfidf', TfidfTransformer()),\n",
    "        ('clf', MultiOutputClassifier(GradientBoostingClassifier(random_state=1)))\n",
    "    ])\n",
    "\n",
    "# Train pipeline\n",
    "pipeline2.fit(X_train, y_train)\n",
    "\n",
    "# predict on test data\n",
    "y_pred2 = pipeline2.predict(X_test)\n",
    "\n",
    "# Re-structure returned numpy array as dataframe with same column names\n",
    "y_pred2 = pd.DataFrame(y_pred2)\n",
    "y_pred2.columns = target_names\n",
    "\n",
    "# Evaluate the model\n",
    "print(performance_report(y_test, y_pred2, target_names))"
   ]
  },
  {
   "cell_type": "markdown",
   "metadata": {},
   "source": [
    "#### 8.2 Oversampling minority categories in the data\n",
    "\n",
    "We saw in the ETL phase how there was a high degree of variance on examples for each of the classes, with some classes/categories having few as 120 examples and others as high as 20,000 examples - so this is a very unbalanced dataset. Two common methods used to address this are oversampling and undersampling. Given our total dataset is around 26,000 rows, I will look at the oversampling technique to generate more samples from the minority category."
   ]
  },
  {
   "cell_type": "code",
   "execution_count": 12,
   "metadata": {},
   "outputs": [
    {
     "data": {
      "text/html": [
       "<div>\n",
       "<style scoped>\n",
       "    .dataframe tbody tr th:only-of-type {\n",
       "        vertical-align: middle;\n",
       "    }\n",
       "\n",
       "    .dataframe tbody tr th {\n",
       "        vertical-align: top;\n",
       "    }\n",
       "\n",
       "    .dataframe thead th {\n",
       "        text-align: right;\n",
       "    }\n",
       "</style>\n",
       "<table border=\"1\" class=\"dataframe\">\n",
       "  <thead>\n",
       "    <tr style=\"text-align: right;\">\n",
       "      <th></th>\n",
       "      <th>0</th>\n",
       "    </tr>\n",
       "  </thead>\n",
       "  <tbody>\n",
       "    <tr>\n",
       "      <th>shops</th>\n",
       "      <td>80</td>\n",
       "    </tr>\n",
       "    <tr>\n",
       "      <th>offer</th>\n",
       "      <td>94</td>\n",
       "    </tr>\n",
       "    <tr>\n",
       "      <th>tools</th>\n",
       "      <td>133</td>\n",
       "    </tr>\n",
       "    <tr>\n",
       "      <th>hospitals</th>\n",
       "      <td>216</td>\n",
       "    </tr>\n",
       "    <tr>\n",
       "      <th>fire</th>\n",
       "      <td>219</td>\n",
       "    </tr>\n",
       "    <tr>\n",
       "      <th>missing_people</th>\n",
       "      <td>229</td>\n",
       "    </tr>\n",
       "    <tr>\n",
       "      <th>aid_centers</th>\n",
       "      <td>233</td>\n",
       "    </tr>\n",
       "    <tr>\n",
       "      <th>clothing</th>\n",
       "      <td>326</td>\n",
       "    </tr>\n",
       "    <tr>\n",
       "      <th>security</th>\n",
       "      <td>362</td>\n",
       "    </tr>\n",
       "    <tr>\n",
       "      <th>cold</th>\n",
       "      <td>382</td>\n",
       "    </tr>\n",
       "  </tbody>\n",
       "</table>\n",
       "</div>"
      ],
      "text/plain": [
       "                  0\n",
       "shops            80\n",
       "offer            94\n",
       "tools           133\n",
       "hospitals       216\n",
       "fire            219\n",
       "missing_people  229\n",
       "aid_centers     233\n",
       "clothing        326\n",
       "security        362\n",
       "cold            382"
      ]
     },
     "execution_count": 12,
     "metadata": {},
     "output_type": "execute_result"
    }
   ],
   "source": [
    "# Get the sum of all occurances of all categories\n",
    "categories_total = y_train.sum(axis = 0)\n",
    "categories_total_df = pd.DataFrame(categories_total)\n",
    "categories_total_df = categories_total_df.sort_values(by=[0])\n",
    "# List the 10 lowest categories and their total occurances\n",
    "categories_total_df.head(10)"
   ]
  },
  {
   "cell_type": "code",
   "execution_count": 13,
   "metadata": {},
   "outputs": [
    {
     "data": {
      "image/png": "[encoded data removed]",
      "text/plain": [
       "<matplotlib.figure.Figure at 0x7f3f28e5cba8>"
      ]
     },
     "metadata": {
      "needs_background": "light"
     },
     "output_type": "display_data"
    }
   ],
   "source": [
    "# Create function to show count totals of categories as a bar chart\n",
    "def plot_target_feature_counts(features_df):\n",
    "    \"\"\"\"\"\"\n",
    "    features_totals = features_df.apply(pd.Series.value_counts)\n",
    "    ax = features_totals.iloc[1].plot.bar(figsize=(15,10))\n",
    "    ax.set_xlabel(\"Category name\")\n",
    "    ax.set_ylabel(\"Category count\")\n",
    "    ax.set_title(\"Message category usage counts\")\n",
    "\n",
    "plot_target_feature_counts(y_train)"
   ]
  },
  {
   "cell_type": "code",
   "execution_count": 14,
   "metadata": {},
   "outputs": [
    {
     "data": {
      "image/png": "[encoded data removed]",
      "text/plain": [
       "<matplotlib.figure.Figure at 0x7f3f26799eb8>"
      ]
     },
     "metadata": {
      "needs_background": "light"
     },
     "output_type": "display_data"
    }
   ],
   "source": [
    "# Rebalance training data to better represent lowest occuring categories\n",
    "def balance_training_data(training_features, training_targets):\n",
    "    \"\"\"\"\"\"\n",
    "    \n",
    "    # Get features & target names\n",
    "    training_features = pd.Series.to_frame(training_features)\n",
    "    feature_names = training_features.columns.values\n",
    "    target_names = training_targets.columns.values\n",
    "    # Get counts of training targets\n",
    "    targets_totals = training_targets.sum(axis = 0)\n",
    "    # Get mean of training targets\n",
    "    mean_targets_totals = int(targets_totals.mean())\n",
    "    # Merge features & targets\n",
    "    training_df = training_features.join(training_targets)\n",
    "    # Convert totals to df\n",
    "    targets_totals = pd.Series.to_frame(targets_totals)\n",
    "    # Get empty class rows\n",
    "    empty_rows = training_df.loc[(training_df['related'] == 0)]\n",
    "    # Get minority class rows \n",
    "    minority_rows = training_df.loc[(training_df['shops'] == 1) | (training_df['offer'] == 1) | (training_df['tools'] == 1) | (training_df['hospitals'] == 1) | (training_df['fire'] == 1) | (training_df['missing_people'] == 1) | (training_df['aid_centers'] == 1) | (training_df['clothing'] == 1) | (training_df['security'] == 1) | (training_df['cold'] == 1)]\n",
    "    minority_rows_balanced = resample(minority_rows, n_samples=training_features.shape[0], random_state=0, replace=True)\n",
    "    # Merge\n",
    "    balanced_df = pd.concat([empty_rows, minority_rows_balanced], ignore_index=True)\n",
    "    # Resplit features from targets\n",
    "    training_features_balanced = balanced_df[feature_names]\n",
    "    training_features_balanced = training_features_balanced.T.squeeze()\n",
    "    training_targets_balanced = balanced_df[target_names]\n",
    "    # Return balanced features & targets\n",
    "    return training_features_balanced, training_targets_balanced\n",
    "\n",
    "    \n",
    "X_train_bal, y_train_bal = balance_training_data(X_train, y_train)\n",
    "plot_target_feature_counts(y_train_bal)"
   ]
  },
  {
   "cell_type": "markdown",
   "metadata": {},
   "source": [
    "We can see how the lowest occuring categories have improved a bit in proportion to the rest."
   ]
  },
  {
   "cell_type": "code",
   "execution_count": 15,
   "metadata": {},
   "outputs": [
    {
     "name": "stdout",
     "output_type": "stream",
     "text": [
      "                        Accuracy  Precision    Recall        F1\n",
      "related                 0.795392   0.801812  0.972428  0.878916\n",
      "request                 0.903570   0.838946  0.523288  0.644544\n",
      "offer                   0.992218   0.000000  0.000000  0.000000\n",
      "aid_related             0.758773   0.804997  0.548077  0.652145\n",
      "medical_help            0.928746   0.625767  0.200787  0.304024\n",
      "medical_products        0.961245   0.704698  0.333333  0.452586\n",
      "search_and_rescue       0.970095   0.387097  0.205714  0.268657\n",
      "security                0.975435   0.080645  0.045872  0.058480\n",
      "military                0.968874   0.571429  0.222222  0.320000\n",
      "water                   0.963381   0.738636  0.637255  0.684211\n",
      "food                    0.955294   0.800287  0.783404  0.791756\n",
      "shelter                 0.947971   0.799499  0.550000  0.651685\n",
      "clothing                0.987641   0.489130  0.569620  0.526316\n",
      "money                   0.975282   0.409091  0.180000  0.250000\n",
      "missing_people          0.985352   0.245283  0.188406  0.213115\n",
      "refugees                0.963534   0.460938  0.257642  0.330532\n",
      "death                   0.966738   0.704762  0.486842  0.575875\n",
      "other_aid               0.873360   0.647059  0.089017  0.156504\n",
      "infrastructure_related  0.935917   0.633333  0.044393  0.082969\n",
      "transport               0.954532   0.532258  0.215686  0.306977\n",
      "buildings               0.957888   0.691729  0.281346  0.400000\n",
      "electricity             0.979249   0.464789  0.251908  0.326733\n",
      "tools                   0.992218   0.000000  0.000000  0.000000\n",
      "hospitals               0.984590   0.113636  0.074627  0.090090\n",
      "shops                   0.990235   0.038462  0.025000  0.030303\n",
      "aid_centers             0.983369   0.133333  0.078947  0.099174\n",
      "other_infrastructure    0.955752   0.304348  0.024911  0.046053\n",
      "weather_related         0.871071   0.872671  0.622715  0.726802\n",
      "floods                  0.957125   0.876751  0.569091  0.690187\n",
      "storm                   0.943699   0.732000  0.608985  0.664850\n",
      "fire                    0.987489   0.369863  0.428571  0.397059\n",
      "earthquake              0.970095   0.830088  0.824253  0.827160\n",
      "cold                    0.979860   0.576923  0.405405  0.476190\n",
      "other_weather           0.949039   0.543478  0.146199  0.230415\n",
      "direct_report           0.872597   0.801449  0.442046  0.569809\n",
      "MEAN SCORE              0.946789   0.532148  0.338228  0.392118\n"
     ]
    }
   ],
   "source": [
    "# Train pipeline with balanced data\n",
    "pipeline2.fit(X_train_bal, y_train_bal)\n",
    "\n",
    "# predict on test data\n",
    "y_pred3 = pipeline2.predict(X_test)\n",
    "\n",
    "# Re-structure returned numpy array as dataframe with same column names\n",
    "y_pred3 = pd.DataFrame(y_pred2)\n",
    "y_pred3.columns = target_names\n",
    "\n",
    "# Evaluate the model\n",
    "print(performance_report(y_test, y_pred3, target_names))"
   ]
  },
  {
   "cell_type": "markdown",
   "metadata": {},
   "source": [
    "#### 8.3 Create new feature for starting verb with new model\n",
    "\n",
    "In NLP people use a wide range of features to train text classifiers. Some use parts of speech features (such as nouns, verbs etc) as features. With this in mind we will add a new feature that detects any starting verbs.\n",
    "\n",
    "https://www.nltk.org/book/ch06.html\n",
    "\n",
    "https://www.analyticsvidhya.com/blog/2018/04/a-comprehensive-guide-to-understand-and-implement-text-classification-in-python/"
   ]
  },
  {
   "cell_type": "code",
   "execution_count": 16,
   "metadata": {},
   "outputs": [],
   "source": [
    "class StartingVerbExtractor(BaseEstimator, TransformerMixin):\n",
    "\n",
    "    def starting_verb(self, text):\n",
    "        sentence_list = nltk.sent_tokenize(text)\n",
    "        for sentence in sentence_list:\n",
    "            pos_tags = nltk.pos_tag(tokenize(sentence))\n",
    "            if pos_tags:\n",
    "                first_word, first_tag = pos_tags[0]\n",
    "                #if first_tag in ['VB', 'VBP'] or first_word == 'RT':\n",
    "                #if first_tag in ['NN', 'NNS', 'NNP', 'NNPS']:\n",
    "                #    return True\n",
    "                return False\n",
    "        return False\n",
    "\n",
    "    def fit(self, X, y=None):\n",
    "        return self\n",
    "\n",
    "    def transform(self, X):\n",
    "        X_tagged = pd.Series(X).apply(self.starting_verb)\n",
    "        return pd.DataFrame(X_tagged)"
   ]
  },
  {
   "cell_type": "code",
   "execution_count": 17,
   "metadata": {},
   "outputs": [
    {
     "name": "stdout",
     "output_type": "stream",
     "text": [
      "                        Accuracy  Precision    Recall        F1\n",
      "related                 0.794171   0.801650  0.970629  0.878084\n",
      "request                 0.902807   0.832849  0.523288  0.642737\n",
      "offer                   0.991913   0.000000  0.000000  0.000000\n",
      "aid_related             0.758621   0.804891  0.547707  0.651849\n",
      "medical_help            0.928441   0.615385  0.204724  0.307238\n",
      "medical_products        0.961703   0.719178  0.333333  0.455531\n",
      "search_and_rescue       0.970552   0.404255  0.217143  0.282528\n",
      "security                0.977113   0.098039  0.045872  0.062500\n",
      "military                0.969484   0.600000  0.222222  0.324324\n",
      "water                   0.962313   0.722992  0.639706  0.678804\n",
      "food                    0.954837   0.797704  0.781997  0.789773\n",
      "shelter                 0.949039   0.807500  0.556897  0.659184\n",
      "clothing                0.987183   0.473684  0.569620  0.517241\n",
      "money                   0.974519   0.373134  0.166667  0.230415\n",
      "missing_people          0.985047   0.215686  0.159420  0.183333\n",
      "refugees                0.963076   0.448819  0.248908  0.320225\n",
      "death                   0.968264   0.733010  0.496711  0.592157\n",
      "other_aid               0.873207   0.641667  0.089017  0.156345\n",
      "infrastructure_related  0.935459   0.586207  0.039720  0.074398\n",
      "transport               0.956820   0.596639  0.232026  0.334118\n",
      "buildings               0.958041   0.691176  0.287462  0.406048\n",
      "electricity             0.979707   0.484848  0.244275  0.324873\n",
      "tools                   0.991913   0.000000  0.000000  0.000000\n",
      "hospitals               0.985505   0.131579  0.074627  0.095238\n",
      "shops                   0.990235   0.038462  0.025000  0.030303\n",
      "aid_centers             0.983064   0.127660  0.078947  0.097561\n",
      "other_infrastructure    0.956363   0.407407  0.039146  0.071429\n",
      "weather_related         0.872597   0.875387  0.626593  0.730384\n",
      "floods                  0.956668   0.871508  0.567273  0.687225\n",
      "storm                   0.944614   0.738956  0.612313  0.669700\n",
      "fire                    0.986726   0.346154  0.428571  0.382979\n",
      "earthquake              0.971010   0.834215  0.831283  0.832746\n",
      "cold                    0.981080   0.625000  0.405405  0.491803\n",
      "other_weather           0.949039   0.543478  0.146199  0.230415\n",
      "direct_report           0.872749   0.802612  0.442046  0.570103\n",
      "MEAN SCORE              0.946968   0.536907  0.338707  0.393188\n"
     ]
    }
   ],
   "source": [
    "# Define new pipeline adding starting verb feature\n",
    "pipeline3 = Pipeline([\n",
    "    ('features', FeatureUnion([\n",
    "\n",
    "        ('text_pipeline', Pipeline([\n",
    "            ('vect', CountVectorizer(tokenizer=tokenize)),\n",
    "            ('tfidf', TfidfTransformer())\n",
    "        ])),\n",
    "\n",
    "        ('starting_verb', StartingVerbExtractor())\n",
    "    ])),\n",
    "\n",
    "    ('clf', MultiOutputClassifier(GradientBoostingClassifier(random_state=1)))\n",
    "])\n",
    "\n",
    "# Train pipeline\n",
    "pipeline3.fit(X_train, y_train)\n",
    "\n",
    "# predict on test data\n",
    "y_pred4 = pipeline3.predict(X_test)\n",
    "\n",
    "# Re-structure returned numpy array as dataframe with same column names\n",
    "y_pred4 = pd.DataFrame(y_pred4)\n",
    "y_pred4.columns = target_names\n",
    "\n",
    "# Evaluate the model\n",
    "print(performance_report(y_test, y_pred4, target_names))"
   ]
  },
  {
   "cell_type": "markdown",
   "metadata": {},
   "source": [
    "#### 8.4 Combine new model, balanced data & verb feature"
   ]
  },
  {
   "cell_type": "code",
   "execution_count": 18,
   "metadata": {},
   "outputs": [
    {
     "name": "stdout",
     "output_type": "stream",
     "text": [
      "                        Accuracy  Precision    Recall        F1\n",
      "related                 0.791730   0.828876  0.916484  0.870481\n",
      "request                 0.885871   0.811490  0.412785  0.547215\n",
      "offer                   0.990388   0.024390  0.041667  0.030769\n",
      "aid_related             0.554318   0.479624  0.944527  0.636194\n",
      "medical_help            0.925694   0.554974  0.208661  0.303290\n",
      "medical_products        0.957278   0.624113  0.279365  0.385965\n",
      "search_and_rescue       0.974519   0.571429  0.182857  0.277056\n",
      "security                0.972994   0.153061  0.137615  0.144928\n",
      "military                0.969332   0.578947  0.254630  0.353698\n",
      "water                   0.952548   0.587703  0.796569  0.676379\n",
      "food                    0.949191   0.781250  0.738397  0.759219\n",
      "shelter                 0.945377   0.765550  0.551724  0.641283\n",
      "clothing                0.989777   0.568182  0.632911  0.598802\n",
      "money                   0.972078   0.305882  0.173333  0.221277\n",
      "missing_people          0.986268   0.266667  0.173913  0.210526\n",
      "refugees                0.964754   0.485714  0.148472  0.227425\n",
      "death                   0.966585   0.745665  0.424342  0.540881\n",
      "other_aid               0.865578   0.427273  0.054335  0.096410\n",
      "infrastructure_related  0.913030   0.269481  0.193925  0.225543\n",
      "transport               0.954837   0.534247  0.254902  0.345133\n",
      "buildings               0.959109   0.718519  0.296636  0.419913\n",
      "electricity             0.980623   0.521739  0.366412  0.430493\n",
      "tools                   0.992676   0.107143  0.115385  0.111111\n",
      "hospitals               0.983064   0.244186  0.313433  0.274510\n",
      "shops                   0.990235   0.071429  0.050000  0.058824\n",
      "aid_centers             0.974214   0.179310  0.342105  0.235294\n",
      "other_infrastructure    0.955447   0.280000  0.024911  0.045752\n",
      "weather_related         0.838114   0.697243  0.728532  0.712544\n",
      "floods                  0.953921   0.869048  0.530909  0.659142\n",
      "storm                   0.938511   0.723982  0.532446  0.613615\n",
      "fire                    0.988862   0.437500  0.555556  0.489510\n",
      "earthquake              0.966280   0.856557  0.734622  0.790918\n",
      "cold                    0.979402   0.536313  0.648649  0.587156\n",
      "other_weather           0.948123   0.510000  0.149123  0.230769\n",
      "direct_report           0.857644   0.750789  0.380496  0.505040\n",
      "MEAN SCORE              0.936811   0.510522  0.379732  0.407345\n"
     ]
    }
   ],
   "source": [
    "# Train pipeline\n",
    "pipeline3.fit(X_train_bal, y_train_bal)\n",
    "\n",
    "# predict on test data\n",
    "y_pred5 = pipeline3.predict(X_test)\n",
    "\n",
    "# Re-structure returned numpy array as dataframe with same column names\n",
    "y_pred5 = pd.DataFrame(y_pred5)\n",
    "y_pred5.columns = target_names\n",
    "\n",
    "# Evaluate the model\n",
    "print(performance_report(y_test, y_pred5, target_names))"
   ]
  },
  {
   "cell_type": "markdown",
   "metadata": {},
   "source": [
    "### 9. Export your model as a pickle file"
   ]
  },
  {
   "cell_type": "code",
   "execution_count": 19,
   "metadata": {},
   "outputs": [
    {
     "data": {
      "text/plain": [
       "['final_model.sav']"
      ]
     },
     "execution_count": 19,
     "metadata": {},
     "output_type": "execute_result"
    }
   ],
   "source": [
    "# save the model to disk\n",
    "filename = 'final_model.sav'\n",
    "#pickle.dump(pipeline2, open(filename, 'wb'))\n",
    "joblib.dump(pipeline3, 'final_model.sav')"
   ]
  },
  {
   "cell_type": "markdown",
   "metadata": {},
   "source": [
    "### 10. Use this notebook to complete `train.py`\n",
    "Use the template file attached in the Resources folder to write a script that runs the steps above to create a database and export a model based on a new dataset specified by the user."
   ]
  },
  {
   "cell_type": "code",
   "execution_count": null,
   "metadata": {},
   "outputs": [],
   "source": []
  }
 ],
 "metadata": {
  "kernelspec": {
   "display_name": "Python 3",
   "language": "python",
   "name": "python3"
  },
  "language_info": {
   "codemirror_mode": {
    "name": "ipython",
    "version": 3
   },
   "file_extension": ".py",
   "mimetype": "text/x-python",
   "name": "python",
   "nbconvert_exporter": "python",
   "pygments_lexer": "ipython3",
   "version": "3.6.3"
  }
 },
 "nbformat": 4,
 "nbformat_minor": 2
}
