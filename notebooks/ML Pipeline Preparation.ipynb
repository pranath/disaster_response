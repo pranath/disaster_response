{
 "cells": [
  {
   "cell_type": "markdown",
   "metadata": {},
   "source": [
    "# NLP & ML Pipeline Preparation\n",
    "\n",
    "In this notebook I will develop the code needed to create an NLP and ML pipeline for the project.\n",
    "\n",
    "### 1. Import libraries and load data from database.\n",
    "\n",
    "- Import Python libraries\n",
    "- Load dataset from database \n",
    "- Define feature and target variables X and Y"
   ]
  },
  {
   "cell_type": "code",
   "execution_count": 2,
   "metadata": {},
   "outputs": [
    {
     "name": "stdout",
     "output_type": "stream",
     "text": [
      "[nltk_data] Downloading package punkt to /Users/pranath/nltk_data...\n",
      "[nltk_data]   Package punkt is already up-to-date!\n",
      "[nltk_data] Downloading package wordnet to /Users/pranath/nltk_data...\n",
      "[nltk_data]   Package wordnet is already up-to-date!\n",
      "[nltk_data] Downloading package averaged_perceptron_tagger to\n",
      "[nltk_data]     /Users/pranath/nltk_data...\n",
      "[nltk_data]   Package averaged_perceptron_tagger is already up-to-\n",
      "[nltk_data]       date!\n",
      "[nltk_data] Downloading package stopwords to\n",
      "[nltk_data]     /Users/pranath/nltk_data...\n",
      "[nltk_data]   Package stopwords is already up-to-date!\n"
     ]
    },
    {
     "name": "stderr",
     "output_type": "stream",
     "text": [
      "paramiko missing, opening SSH/SCP/SFTP paths will be disabled.  `pip install paramiko` to suppress\n"
     ]
    }
   ],
   "source": [
    "# import libraries\n",
    "import nltk\n",
    "nltk.download(['punkt', 'wordnet', 'averaged_perceptron_tagger'])\n",
    "nltk.download('stopwords')\n",
    "import re\n",
    "import numpy as np\n",
    "import pandas as pd\n",
    "from nltk.tokenize import word_tokenize\n",
    "from nltk.stem import WordNetLemmatizer\n",
    "from nltk.corpus import stopwords\n",
    "from sklearn.metrics import accuracy_score, precision_score, recall_score, f1_score\n",
    "from sklearn.metrics import classification_report\n",
    "from sklearn.model_selection import GridSearchCV\n",
    "from sklearn.ensemble import RandomForestClassifier, AdaBoostClassifier, GradientBoostingClassifier\n",
    "from sklearn.linear_model import LogisticRegression\n",
    "from sklearn.svm import SVC\n",
    "from sklearn.naive_bayes import MultinomialNB\n",
    "from sklearn.multioutput import MultiOutputClassifier\n",
    "from sklearn.model_selection import train_test_split\n",
    "from sklearn.pipeline import Pipeline, FeatureUnion\n",
    "from sklearn.base import BaseEstimator, TransformerMixin\n",
    "from sklearn.feature_extraction.text import CountVectorizer, TfidfTransformer\n",
    "from sklearn.utils import resample\n",
    "import sqlite3\n",
    "from sqlalchemy import create_engine\n",
    "import pickle\n",
    "from sklearn.externals import joblib\n",
    "import gensim\n",
    "from sklearn.feature_extraction.text import TfidfVectorizer\n",
    "from collections import defaultdict\n",
    "import gensim.models as g\n",
    "import codecs\n",
    "%matplotlib inline"
   ]
  },
  {
   "cell_type": "code",
   "execution_count": 3,
   "metadata": {},
   "outputs": [],
   "source": [
    "# load data from database\n",
    "engine = create_engine('sqlite:///DisasterResponse.db')\n",
    "df = pd.read_sql_table('DisasterResponse', engine)\n",
    "target_names = ['related', 'request', 'offer', 'aid_related', 'medical_help', 'medical_products', 'search_and_rescue', 'security', 'military', 'water', 'food', 'shelter', 'clothing', 'money', 'missing_people', 'refugees', 'death', 'other_aid', 'infrastructure_related', 'transport', 'buildings', 'electricity', 'tools', 'hospitals', 'shops', 'aid_centers', 'other_infrastructure', 'weather_related', 'floods', 'storm', 'fire', 'earthquake', 'cold', 'other_weather', 'direct_report']\n",
    "X = df['message']\n",
    "Y = df[target_names]"
   ]
  },
  {
   "cell_type": "code",
   "execution_count": 10,
   "metadata": {},
   "outputs": [
    {
     "name": "stdout",
     "output_type": "stream",
     "text": [
      "Weather update - a cold front from Cuba that could pass over Haiti\n",
      "\n",
      "Is the Hurricane over or is it not over\n",
      "\n",
      "Looking for someone but no name\n",
      "\n",
      "UN reports Leogane 80-90 destroyed. Only Hospital St. Croix functioning. Needs supplies desperately.\n",
      "\n",
      "says: west side of Haiti, rest of the country today and tonight\n",
      "\n",
      "Information about the National Palace-\n",
      "\n",
      "Storm at sacred heart of jesus\n",
      "\n",
      "Please, we need tents and water. We are in Silo, Thank you!\n",
      "\n",
      "I would like to receive the messages, thank you\n",
      "\n",
      "I am in Croix-des-Bouquets. We have health issues. They ( workers ) are in Santo 15. ( an area in Croix-des-Bouquets )\n",
      "\n",
      "There's nothing to eat and water, we starving and thirsty.\n",
      "\n",
      "I am in Petionville. I need more information regarding 4636\n",
      "\n",
      "I am in Thomassin number 32, in the area named Pyron. I would like to have some water. Thank God we are fine, but we desperately need water. Thanks\n",
      "\n",
      "Let's do it together, need food in Delma 75, in didine area\n",
      "\n",
      "More information on the 4636 number in order for me to participate. ( To see if I can use it )\n",
      "\n",
      "A Comitee in Delmas 19, Rue ( street ) Janvier, Impasse Charite #2. We have about 500 people in a temporary shelter and we are in dire need of Water, Food, Medications, Tents and Clothes. Please stop by and see us.\n",
      "\n",
      "We need food and water in Klecin 12. We are dying of hunger. Impasse Chretien Klecin 12 extended ( extension ) We are hungry and sick.\n",
      "\n",
      "are you going to call me or do you want me to call ou? let me know?\n",
      "\n",
      "I don't understand how to use this thing 4636.\n",
      "\n",
      "I would like to know if the earthquake is over. Thanks\n",
      "\n"
     ]
    }
   ],
   "source": [
    "# Show 20 example messages\n",
    "pd.options.display.max_colwidth = 110\n",
    "for i in range(20):\n",
    "    print(X.iloc[i])\n",
    "    print('')"
   ]
  },
  {
   "cell_type": "markdown",
   "metadata": {},
   "source": [
    "### 2. Write a tokenization function to process text data"
   ]
  },
  {
   "cell_type": "code",
   "execution_count": 4,
   "metadata": {},
   "outputs": [],
   "source": [
    "def tokenize(text):\n",
    "    # Remove punctuation characters\n",
    "    text = re.sub(r\"[^a-zA-Z0-9]\", \" \", text) \n",
    "    # Tokenise\n",
    "    tokens = word_tokenize(text)\n",
    "    # Create lemmatiser\n",
    "    lemmatizer = WordNetLemmatizer()\n",
    "\n",
    "    clean_tokens = []\n",
    "    # Lemmatize, standardise (lower case) & clean tokens\n",
    "    for tok in tokens:\n",
    "        clean_tok = lemmatizer.lemmatize(tok).lower().strip()\n",
    "        clean_tokens.append(clean_tok)\n",
    "\n",
    "    # Load stop words\n",
    "    stop_words = stopwords.words('english')\n",
    "    # Remove stop words\n",
    "    clean_tokens = [word for word in clean_tokens if word not in stop_words]\n",
    "        \n",
    "    return clean_tokens"
   ]
  },
  {
   "cell_type": "markdown",
   "metadata": {},
   "source": [
    "### 3. Build a machine learning pipeline\n",
    "\n",
    "The machine pipeline will take in the `message` column as input and output classification results on the other 36 categories in the dataset. "
   ]
  },
  {
   "cell_type": "code",
   "execution_count": 5,
   "metadata": {},
   "outputs": [],
   "source": [
    "# Define ML pipeline\n",
    "pipeline = Pipeline([\n",
    "        ('vect', CountVectorizer(tokenizer=tokenize)),\n",
    "        ('tfidf', TfidfTransformer()),\n",
    "        ('clf', MultiOutputClassifier(SVC()))\n",
    "    ])"
   ]
  },
  {
   "cell_type": "markdown",
   "metadata": {},
   "source": [
    "### 4. Train pipeline\n",
    "- Split data into train and test sets\n",
    "- Train pipeline"
   ]
  },
  {
   "cell_type": "code",
   "execution_count": 5,
   "metadata": {},
   "outputs": [],
   "source": [
    "# Split data into train and test\n",
    "X_train, X_test, y_train, y_test = train_test_split(X, Y, random_state=49)"
   ]
  },
  {
   "cell_type": "code",
   "execution_count": 6,
   "metadata": {},
   "outputs": [],
   "source": [
    "# Train pipeline\n",
    "pipeline.fit(X_train, y_train)\n",
    "\n",
    "# predict on test data\n",
    "y_pred = pipeline.predict(X_test)\n",
    "\n",
    "# Re-structure returned numpy array as dataframe with same column names\n",
    "y_pred = pd.DataFrame(y_pred)\n",
    "y_pred.columns = target_names"
   ]
  },
  {
   "cell_type": "markdown",
   "metadata": {},
   "source": [
    "### 5. Test the model\n",
    "\n",
    "I will report the f1 score, precision and recall for each output category of the dataset, however I will choose the f1 score to be the key score in determining the best performing model."
   ]
  },
  {
   "cell_type": "code",
   "execution_count": 6,
   "metadata": {},
   "outputs": [],
   "source": [
    "def performance_report(actual, predicted, target_names):\n",
    "    \n",
    "    metrics = []\n",
    "    \n",
    "    # For each of the target features\n",
    "    for i in target_names:\n",
    "        # Calculate metrics\n",
    "        accuracy = accuracy_score(actual[i], predicted[i])\n",
    "        precision = precision_score(actual[i], predicted[i])\n",
    "        recall = recall_score(actual[i], predicted[i])\n",
    "        f1 = f1_score(actual[i], predicted[i])\n",
    "        # Save metrics\n",
    "        metrics.append([accuracy, precision, recall, f1])\n",
    "    \n",
    "    # Convert to numpy array\n",
    "    metrics = np.array(metrics)\n",
    "    # Convert to dataframe\n",
    "    metrics_df = pd.DataFrame(data = metrics, index = target_names, columns = ['Accuracy', 'Precision', 'Recall', 'F1'])\n",
    "    # Add mean\n",
    "    mean_acc = metrics_df['Accuracy'].mean()\n",
    "    mean_pre = metrics_df['Precision'].mean()\n",
    "    mean_rec = metrics_df['Recall'].mean()\n",
    "    mean_f1 = metrics_df['F1'].mean()\n",
    "    row = pd.Series({'Accuracy':mean_acc,'Precision':mean_pre,'Recall':mean_rec,'F1':mean_f1},name='MEAN SCORE')\n",
    "    metrics_df = metrics_df.append(row)\n",
    "    return metrics_df"
   ]
  },
  {
   "cell_type": "code",
   "execution_count": 8,
   "metadata": {},
   "outputs": [
    {
     "name": "stdout",
     "output_type": "stream",
     "text": [
      "                        Accuracy  Precision    Recall        F1\n",
      "related                 0.763656   0.763656  1.000000  0.865992\n",
      "request                 0.832926   0.000000  0.000000  0.000000\n",
      "offer                   0.996338   0.000000  0.000000  0.000000\n",
      "aid_related             0.587428   0.000000  0.000000  0.000000\n",
      "medical_help            0.922490   0.000000  0.000000  0.000000\n",
      "medical_products        0.951938   0.000000  0.000000  0.000000\n",
      "search_and_rescue       0.973299   0.000000  0.000000  0.000000\n",
      "security                0.983369   0.000000  0.000000  0.000000\n",
      "military                0.967043   0.000000  0.000000  0.000000\n",
      "water                   0.937748   0.000000  0.000000  0.000000\n",
      "food                    0.891517   0.000000  0.000000  0.000000\n",
      "shelter                 0.911504   0.000000  0.000000  0.000000\n",
      "clothing                0.987946   0.000000  0.000000  0.000000\n",
      "money                   0.977113   0.000000  0.000000  0.000000\n",
      "missing_people          0.989472   0.000000  0.000000  0.000000\n",
      "refugees                0.965060   0.000000  0.000000  0.000000\n",
      "death                   0.953616   0.000000  0.000000  0.000000\n",
      "other_aid               0.868020   0.000000  0.000000  0.000000\n",
      "infrastructure_related  0.934696   0.000000  0.000000  0.000000\n",
      "transport               0.953311   0.000000  0.000000  0.000000\n",
      "buildings               0.950107   0.000000  0.000000  0.000000\n",
      "electricity             0.980012   0.000000  0.000000  0.000000\n",
      "tools                   0.996033   0.000000  0.000000  0.000000\n",
      "hospitals               0.989777   0.000000  0.000000  0.000000\n",
      "shops                   0.993897   0.000000  0.000000  0.000000\n",
      "aid_centers             0.988404   0.000000  0.000000  0.000000\n",
      "other_infrastructure    0.957125   0.000000  0.000000  0.000000\n",
      "weather_related         0.724596   0.000000  0.000000  0.000000\n",
      "floods                  0.916082   0.000000  0.000000  0.000000\n",
      "storm                   0.908300   0.000000  0.000000  0.000000\n",
      "fire                    0.990388   0.000000  0.000000  0.000000\n",
      "earthquake              0.913183   0.000000  0.000000  0.000000\n",
      "cold                    0.977418   0.000000  0.000000  0.000000\n",
      "other_weather           0.947818   0.000000  0.000000  0.000000\n",
      "direct_report           0.809124   0.000000  0.000000  0.000000\n",
      "MEAN SCORE              0.925450   0.021819  0.028571  0.024743\n"
     ]
    },
    {
     "name": "stderr",
     "output_type": "stream",
     "text": [
      "/opt/conda/lib/python3.6/site-packages/sklearn/metrics/classification.py:1135: UndefinedMetricWarning: Precision is ill-defined and being set to 0.0 due to no predicted samples.\n",
      "  'precision', 'predicted', average, warn_for)\n",
      "/opt/conda/lib/python3.6/site-packages/sklearn/metrics/classification.py:1135: UndefinedMetricWarning: F-score is ill-defined and being set to 0.0 due to no predicted samples.\n",
      "  'precision', 'predicted', average, warn_for)\n"
     ]
    }
   ],
   "source": [
    "# Show metrics for each category\n",
    "print(performance_report(y_test, y_pred, target_names))"
   ]
  },
  {
   "cell_type": "markdown",
   "metadata": {},
   "source": [
    "So we can see the metric values vary considerably, this is probably due to the low number of examples for particular categories (as we can see from the warnings, some have no examples to test). In particular while accuracy is high, recall, precison and f1 scores are zero with this model."
   ]
  },
  {
   "cell_type": "markdown",
   "metadata": {},
   "source": [
    "### 6. Improve the model\n",
    "\n",
    "Use grid search to find better parameters. "
   ]
  },
  {
   "cell_type": "code",
   "execution_count": 9,
   "metadata": {},
   "outputs": [],
   "source": [
    "#parameters = {\n",
    "        #'vect__ngram_range': ((1, 2)),\n",
    "        #'vect__max_df': (0.5, 0.75, 1.0),\n",
    "        #'vect__max_features': (None, 5000, 10000),\n",
    "        #'tfidf__use_idf': (True, False),\n",
    "        #'clf__estimator__n_estimators':[15, 50], \n",
    "        #'clf__estimator__min_samples_split':[2, 5, 10]\n",
    "        #'vect__max_df': (0.5, 0.75),\n",
    "#}\n",
    "\n",
    "#cv = GridSearchCV(pipeline, param_grid=parameters)"
   ]
  },
  {
   "cell_type": "markdown",
   "metadata": {},
   "source": [
    "### 7. Test the model again\n",
    "\n",
    "Show the accuracy, precision, and recall of the tuned model.  "
   ]
  },
  {
   "cell_type": "code",
   "execution_count": 10,
   "metadata": {},
   "outputs": [],
   "source": [
    "# Train pipeline with grid search\n",
    "#cv.fit(X_train, y_train)\n",
    "\n",
    "# predict on test data\n",
    "#y_pred2 = cv.predict(X_test)\n",
    "\n",
    "# Re-structure returned numpy array as dataframe with same column names\n",
    "#y_pred2 = pd.DataFrame(y_pred2)\n",
    "#y_pred2.columns = target_names\n",
    "\n",
    "# Evaluate the model\n",
    "#evaluate_model(y_test, y_pred2, target_names)"
   ]
  },
  {
   "cell_type": "markdown",
   "metadata": {},
   "source": [
    "### 8. Trying to improve the model further\n",
    "\n",
    "Reading on various techniques in several articles including these:\n",
    "\n",
    "https://towardsdatascience.com/machine-learning-multiclass-classification-with-imbalanced-data-set-29f6a177c1a\n",
    "\n",
    "https://towardsdatascience.com/methods-for-dealing-with-imbalanced-data-5b761be45a18\n",
    "\n",
    "https://machinelearningmastery.com/tactics-to-combat-imbalanced-classes-in-your-machine-learning-dataset/\n",
    "\n",
    "I decided to try 3 approaches to try to improve results.\n",
    "\n",
    "- Oversampling minority categories in the data\n",
    "- Change model to Gradient Boosting \n",
    "- Add starting verb feature"
   ]
  },
  {
   "cell_type": "markdown",
   "metadata": {},
   "source": [
    "#### 8.1 Try a different model"
   ]
  },
  {
   "cell_type": "code",
   "execution_count": 72,
   "metadata": {},
   "outputs": [
    {
     "name": "stderr",
     "output_type": "stream",
     "text": [
      "/anaconda3/lib/python3.6/site-packages/sklearn/linear_model/logistic.py:433: FutureWarning: Default solver will be changed to 'lbfgs' in 0.22. Specify a solver to silence this warning.\n",
      "  FutureWarning)\n",
      "/anaconda3/lib/python3.6/site-packages/sklearn/metrics/classification.py:1143: UndefinedMetricWarning: Precision is ill-defined and being set to 0.0 due to no predicted samples.\n",
      "  'precision', 'predicted', average, warn_for)\n",
      "/anaconda3/lib/python3.6/site-packages/sklearn/metrics/classification.py:1143: UndefinedMetricWarning: F-score is ill-defined and being set to 0.0 due to no predicted samples.\n",
      "  'precision', 'predicted', average, warn_for)\n"
     ]
    },
    {
     "name": "stdout",
     "output_type": "stream",
     "text": [
      "                        Accuracy  Precision    Recall        F1\n",
      "related                 0.821941   0.837496  0.951449  0.890843\n",
      "request                 0.901282   0.815493  0.528767  0.641551\n",
      "offer                   0.996338   0.000000  0.000000  0.000000\n",
      "aid_related             0.781660   0.774472  0.664201  0.715110\n",
      "medical_help            0.928898   0.664062  0.167323  0.267296\n",
      "medical_products        0.957125   0.702381  0.187302  0.295739\n",
      "search_and_rescue       0.974672   0.909091  0.057143  0.107527\n",
      "security                0.983369   0.000000  0.000000  0.000000\n",
      "military                0.968874   0.676471  0.106481  0.184000\n",
      "water                   0.959872   0.805907  0.468137  0.592248\n",
      "food                    0.942630   0.849687  0.572433  0.684034\n",
      "shelter                 0.941868   0.813880  0.444828  0.575251\n",
      "clothing                0.989930   0.882353  0.189873  0.312500\n",
      "money                   0.978029   0.666667  0.080000  0.142857\n",
      "missing_people          0.989625   1.000000  0.014493  0.028571\n",
      "refugees                0.965975   0.625000  0.065502  0.118577\n",
      "death                   0.962313   0.890411  0.213816  0.344828\n",
      "other_aid               0.875191   0.645963  0.120231  0.202729\n",
      "infrastructure_related  0.935612   0.625000  0.035047  0.066372\n",
      "transport               0.957736   0.853659  0.114379  0.201729\n",
      "buildings               0.956668   0.759036  0.192661  0.307317\n",
      "electricity             0.982606   0.793103  0.175573  0.287500\n",
      "tools                   0.996033   0.000000  0.000000  0.000000\n",
      "hospitals               0.989625   0.000000  0.000000  0.000000\n",
      "shops                   0.993897   0.000000  0.000000  0.000000\n",
      "aid_centers             0.988404   0.000000  0.000000  0.000000\n",
      "other_infrastructure    0.957278   0.545455  0.021352  0.041096\n",
      "weather_related         0.874123   0.860294  0.648199  0.739336\n",
      "floods                  0.947666   0.915663  0.414545  0.570713\n",
      "storm                   0.934391   0.750733  0.425957  0.543524\n",
      "fire                    0.990388   0.500000  0.015873  0.030769\n",
      "earthquake              0.963076   0.888361  0.657293  0.755556\n",
      "cold                    0.980165   0.875000  0.141892  0.244186\n",
      "other_weather           0.949649   0.833333  0.043860  0.083333\n",
      "direct_report           0.868477   0.775887  0.437250  0.559305\n",
      "MEAN SCORE              0.948154   0.643853  0.233025  0.300983\n"
     ]
    }
   ],
   "source": [
    "# Logistic regression\n",
    "# Define ML pipeline\n",
    "pipeline1 = Pipeline([\n",
    "        ('vect', CountVectorizer(tokenizer=tokenize)),\n",
    "        ('tfidf', TfidfTransformer()),\n",
    "        ('clf', MultiOutputClassifier(LogisticRegression(random_state=1)))\n",
    "    ])\n",
    "\n",
    "# Train pipeline\n",
    "pipeline1.fit(X_train, y_train)\n",
    "\n",
    "# predict on test data\n",
    "y_pred1 = pipeline1.predict(X_test)\n",
    "\n",
    "# Re-structure returned numpy array as dataframe with same column names\n",
    "y_pred1 = pd.DataFrame(y_pred1)\n",
    "y_pred1.columns = target_names\n",
    "\n",
    "# Evaluate the model\n",
    "print(performance_report(y_test, y_pred1, target_names))"
   ]
  },
  {
   "cell_type": "code",
   "execution_count": 73,
   "metadata": {},
   "outputs": [
    {
     "name": "stdout",
     "output_type": "stream",
     "text": [
      "                        Accuracy  Precision    Recall        F1\n",
      "related                 0.789594   0.794223  0.977822  0.876511\n",
      "request                 0.900214   0.847244  0.491324  0.621965\n",
      "offer                   0.993897   0.000000  0.000000  0.000000\n",
      "aid_related             0.749466   0.780359  0.546598  0.642888\n",
      "medical_help            0.927983   0.609756  0.196850  0.297619\n",
      "medical_products        0.960940   0.700680  0.326984  0.445887\n",
      "search_and_rescue       0.969942   0.387755  0.217143  0.278388\n",
      "security                0.975282   0.079365  0.045872  0.058140\n",
      "military                0.970400   0.627907  0.250000  0.357616\n",
      "water                   0.962313   0.720548  0.644608  0.680466\n",
      "food                    0.952090   0.789781  0.760900  0.775072\n",
      "shelter                 0.949344   0.805419  0.563793  0.663286\n",
      "clothing                0.987946   0.500000  0.569620  0.532544\n",
      "money                   0.974977   0.400000  0.186667  0.254545\n",
      "missing_people          0.985810   0.239130  0.159420  0.191304\n",
      "refugees                0.962923   0.448529  0.266376  0.334247\n",
      "death                   0.966738   0.706731  0.483553  0.574219\n",
      "other_aid               0.873818   0.661017  0.090173  0.158698\n",
      "infrastructure_related  0.936680   0.685714  0.056075  0.103672\n",
      "transport               0.956363   0.596154  0.202614  0.302439\n",
      "buildings               0.959719   0.748031  0.290520  0.418502\n",
      "electricity             0.980012   0.500000  0.274809  0.354680\n",
      "tools                   0.990388   0.000000  0.000000  0.000000\n",
      "hospitals               0.986115   0.200000  0.119403  0.149533\n",
      "shops                   0.990235   0.000000  0.000000  0.000000\n",
      "aid_centers             0.983979   0.177778  0.105263  0.132231\n",
      "other_infrastructure    0.954684   0.277778  0.035587  0.063091\n",
      "weather_related         0.872597   0.875387  0.626593  0.730384\n",
      "floods                  0.958041   0.889518  0.570909  0.695460\n",
      "storm                   0.944309   0.735060  0.613977  0.669084\n",
      "fire                    0.987183   0.333333  0.333333  0.333333\n",
      "earthquake              0.971315   0.835979  0.833040  0.834507\n",
      "cold                    0.980317   0.587156  0.432432  0.498054\n",
      "other_weather           0.948886   0.544304  0.125731  0.204276\n",
      "direct_report           0.862374   0.799314  0.372502  0.508179\n",
      "MEAN SCORE              0.946196   0.539541  0.336300  0.392595\n"
     ]
    }
   ],
   "source": [
    "# Gradient boosting\n",
    "# Define ML pipeline\n",
    "pipeline2 = Pipeline([\n",
    "        ('vect', CountVectorizer(tokenizer=tokenize)),\n",
    "        ('tfidf', TfidfTransformer()),\n",
    "        ('clf', MultiOutputClassifier(GradientBoostingClassifier(random_state=1)))\n",
    "    ])\n",
    "\n",
    "# Train pipeline\n",
    "pipeline2.fit(X_train, y_train)\n",
    "\n",
    "# predict on test data\n",
    "y_pred2 = pipeline2.predict(X_test)\n",
    "\n",
    "# Re-structure returned numpy array as dataframe with same column names\n",
    "y_pred2 = pd.DataFrame(y_pred2)\n",
    "y_pred2.columns = target_names\n",
    "\n",
    "# Evaluate the model\n",
    "print(performance_report(y_test, y_pred2, target_names))"
   ]
  },
  {
   "cell_type": "markdown",
   "metadata": {},
   "source": [
    "So the gradient boosting model seems to perform the best of all models."
   ]
  },
  {
   "cell_type": "markdown",
   "metadata": {},
   "source": [
    "#### 8.2 Oversampling minority categories in the data\n",
    "\n",
    "We saw in the ETL phase how there was a high degree of variance on examples for each of the classes, with some classes/categories having few as 120 examples and others as high as 20,000 examples - so this is a very unbalanced dataset. Two common methods used to address this are oversampling and undersampling. Given our total dataset is around 26,000 rows, I will look at the oversampling technique to generate more samples from the minority category."
   ]
  },
  {
   "cell_type": "code",
   "execution_count": 101,
   "metadata": {},
   "outputs": [
    {
     "data": {
      "text/html": [
       "<div>\n",
       "<style scoped>\n",
       "    .dataframe tbody tr th:only-of-type {\n",
       "        vertical-align: middle;\n",
       "    }\n",
       "\n",
       "    .dataframe tbody tr th {\n",
       "        vertical-align: top;\n",
       "    }\n",
       "\n",
       "    .dataframe thead th {\n",
       "        text-align: right;\n",
       "    }\n",
       "</style>\n",
       "<table border=\"1\" class=\"dataframe\">\n",
       "  <thead>\n",
       "    <tr style=\"text-align: right;\">\n",
       "      <th></th>\n",
       "      <th>0</th>\n",
       "    </tr>\n",
       "  </thead>\n",
       "  <tbody>\n",
       "    <tr>\n",
       "      <th>shops</th>\n",
       "      <td>80</td>\n",
       "    </tr>\n",
       "    <tr>\n",
       "      <th>offer</th>\n",
       "      <td>94</td>\n",
       "    </tr>\n",
       "    <tr>\n",
       "      <th>tools</th>\n",
       "      <td>133</td>\n",
       "    </tr>\n",
       "    <tr>\n",
       "      <th>hospitals</th>\n",
       "      <td>216</td>\n",
       "    </tr>\n",
       "    <tr>\n",
       "      <th>fire</th>\n",
       "      <td>219</td>\n",
       "    </tr>\n",
       "    <tr>\n",
       "      <th>missing_people</th>\n",
       "      <td>229</td>\n",
       "    </tr>\n",
       "    <tr>\n",
       "      <th>aid_centers</th>\n",
       "      <td>233</td>\n",
       "    </tr>\n",
       "    <tr>\n",
       "      <th>clothing</th>\n",
       "      <td>326</td>\n",
       "    </tr>\n",
       "    <tr>\n",
       "      <th>security</th>\n",
       "      <td>362</td>\n",
       "    </tr>\n",
       "    <tr>\n",
       "      <th>cold</th>\n",
       "      <td>382</td>\n",
       "    </tr>\n",
       "  </tbody>\n",
       "</table>\n",
       "</div>"
      ],
      "text/plain": [
       "                  0\n",
       "shops            80\n",
       "offer            94\n",
       "tools           133\n",
       "hospitals       216\n",
       "fire            219\n",
       "missing_people  229\n",
       "aid_centers     233\n",
       "clothing        326\n",
       "security        362\n",
       "cold            382"
      ]
     },
     "execution_count": 101,
     "metadata": {},
     "output_type": "execute_result"
    }
   ],
   "source": [
    "# Get the sum of all occurances of all categories\n",
    "categories_total_train = y_train.sum(axis = 0)\n",
    "categories_total_train_df = pd.DataFrame(categories_total_train)\n",
    "categories_total_train_df = categories_total_train_df.sort_values(by=[0])\n",
    "# List the 10 lowest categories and their total occurances\n",
    "categories_total_train_df.head(10)"
   ]
  },
  {
   "cell_type": "code",
   "execution_count": 102,
   "metadata": {},
   "outputs": [
    {
     "data": {
      "text/html": [
       "<div>\n",
       "<style scoped>\n",
       "    .dataframe tbody tr th:only-of-type {\n",
       "        vertical-align: middle;\n",
       "    }\n",
       "\n",
       "    .dataframe tbody tr th {\n",
       "        vertical-align: top;\n",
       "    }\n",
       "\n",
       "    .dataframe thead th {\n",
       "        text-align: right;\n",
       "    }\n",
       "</style>\n",
       "<table border=\"1\" class=\"dataframe\">\n",
       "  <thead>\n",
       "    <tr style=\"text-align: right;\">\n",
       "      <th></th>\n",
       "      <th>0</th>\n",
       "    </tr>\n",
       "  </thead>\n",
       "  <tbody>\n",
       "    <tr>\n",
       "      <th>offer</th>\n",
       "      <td>24</td>\n",
       "    </tr>\n",
       "    <tr>\n",
       "      <th>tools</th>\n",
       "      <td>26</td>\n",
       "    </tr>\n",
       "    <tr>\n",
       "      <th>shops</th>\n",
       "      <td>40</td>\n",
       "    </tr>\n",
       "    <tr>\n",
       "      <th>fire</th>\n",
       "      <td>63</td>\n",
       "    </tr>\n",
       "    <tr>\n",
       "      <th>hospitals</th>\n",
       "      <td>67</td>\n",
       "    </tr>\n",
       "    <tr>\n",
       "      <th>missing_people</th>\n",
       "      <td>69</td>\n",
       "    </tr>\n",
       "    <tr>\n",
       "      <th>aid_centers</th>\n",
       "      <td>76</td>\n",
       "    </tr>\n",
       "    <tr>\n",
       "      <th>clothing</th>\n",
       "      <td>79</td>\n",
       "    </tr>\n",
       "    <tr>\n",
       "      <th>security</th>\n",
       "      <td>109</td>\n",
       "    </tr>\n",
       "    <tr>\n",
       "      <th>electricity</th>\n",
       "      <td>131</td>\n",
       "    </tr>\n",
       "  </tbody>\n",
       "</table>\n",
       "</div>"
      ],
      "text/plain": [
       "                  0\n",
       "offer            24\n",
       "tools            26\n",
       "shops            40\n",
       "fire             63\n",
       "hospitals        67\n",
       "missing_people   69\n",
       "aid_centers      76\n",
       "clothing         79\n",
       "security        109\n",
       "electricity     131"
      ]
     },
     "execution_count": 102,
     "metadata": {},
     "output_type": "execute_result"
    }
   ],
   "source": [
    "# Get the sum of all occurances of all categories\n",
    "categories_total_test = y_test.sum(axis = 0)\n",
    "categories_total_test_df = pd.DataFrame(categories_total_test)\n",
    "categories_total_test_df = categories_total_test_df.sort_values(by=[0])\n",
    "# List the 10 lowest categories and their total occurances\n",
    "categories_total_test_df.head(10)"
   ]
  },
  {
   "cell_type": "code",
   "execution_count": 89,
   "metadata": {},
   "outputs": [
    {
     "data": {
      "text/html": [
       "<div>\n",
       "<style scoped>\n",
       "    .dataframe tbody tr th:only-of-type {\n",
       "        vertical-align: middle;\n",
       "    }\n",
       "\n",
       "    .dataframe tbody tr th {\n",
       "        vertical-align: top;\n",
       "    }\n",
       "\n",
       "    .dataframe thead th {\n",
       "        text-align: right;\n",
       "    }\n",
       "</style>\n",
       "<table border=\"1\" class=\"dataframe\">\n",
       "  <thead>\n",
       "    <tr style=\"text-align: right;\">\n",
       "      <th></th>\n",
       "      <th>0</th>\n",
       "    </tr>\n",
       "  </thead>\n",
       "  <tbody>\n",
       "    <tr>\n",
       "      <th>shelter</th>\n",
       "      <td>1734</td>\n",
       "    </tr>\n",
       "    <tr>\n",
       "      <th>storm</th>\n",
       "      <td>1842</td>\n",
       "    </tr>\n",
       "    <tr>\n",
       "      <th>earthquake</th>\n",
       "      <td>1886</td>\n",
       "    </tr>\n",
       "    <tr>\n",
       "      <th>food</th>\n",
       "      <td>2212</td>\n",
       "    </tr>\n",
       "    <tr>\n",
       "      <th>other_aid</th>\n",
       "      <td>2581</td>\n",
       "    </tr>\n",
       "    <tr>\n",
       "      <th>request</th>\n",
       "      <td>3379</td>\n",
       "    </tr>\n",
       "    <tr>\n",
       "      <th>direct_report</th>\n",
       "      <td>3824</td>\n",
       "    </tr>\n",
       "    <tr>\n",
       "      <th>weather_related</th>\n",
       "      <td>5492</td>\n",
       "    </tr>\n",
       "    <tr>\n",
       "      <th>aid_related</th>\n",
       "      <td>8156</td>\n",
       "    </tr>\n",
       "    <tr>\n",
       "      <th>related</th>\n",
       "      <td>15088</td>\n",
       "    </tr>\n",
       "  </tbody>\n",
       "</table>\n",
       "</div>"
      ],
      "text/plain": [
       "                     0\n",
       "shelter           1734\n",
       "storm             1842\n",
       "earthquake        1886\n",
       "food              2212\n",
       "other_aid         2581\n",
       "request           3379\n",
       "direct_report     3824\n",
       "weather_related   5492\n",
       "aid_related       8156\n",
       "related          15088"
      ]
     },
     "execution_count": 89,
     "metadata": {},
     "output_type": "execute_result"
    }
   ],
   "source": [
    "# List the 10 highest categories and their total occurances\n",
    "categories_total_train_df.tail(10)"
   ]
  },
  {
   "cell_type": "code",
   "execution_count": 7,
   "metadata": {},
   "outputs": [
    {
     "data": {
      "image/png": "[encoded data removed]",
      "text/plain": [
       "<Figure size 1080x720 with 1 Axes>"
      ]
     },
     "metadata": {},
     "output_type": "display_data"
    }
   ],
   "source": [
    "# Create function to show count totals of categories as a bar chart\n",
    "def plot_target_feature_counts(features_df):\n",
    "    \"\"\"\"\"\"\n",
    "    features_totals = features_df.apply(pd.Series.value_counts)\n",
    "    ax = features_totals.iloc[1].plot.bar(figsize=(15,10))\n",
    "    ax.set_xlabel(\"Category name\")\n",
    "    ax.set_ylabel(\"Category count\")\n",
    "    ax.set_title(\"Message category usage counts\")\n",
    "\n",
    "plot_target_feature_counts(y_train)"
   ]
  },
  {
   "cell_type": "code",
   "execution_count": 104,
   "metadata": {},
   "outputs": [
    {
     "data": {
      "image/png": "[encoded data removed]",
      "text/plain": [
       "<Figure size 1080x720 with 1 Axes>"
      ]
     },
     "metadata": {},
     "output_type": "display_data"
    }
   ],
   "source": [
    "# Rebalance training data to better represent lowest occuring categories\n",
    "def balance_training_data(training_features, training_targets):\n",
    "    \"\"\"\"\"\"\n",
    "    \n",
    "    # Get features & target names\n",
    "    training_features = pd.Series.to_frame(training_features)\n",
    "    feature_names = training_features.columns.values\n",
    "    target_names = training_targets.columns.values\n",
    "    # Get counts of training targets\n",
    "    targets_totals = training_targets.sum(axis = 0)\n",
    "    # Get mean of training targets\n",
    "    mean_targets_totals = int(targets_totals.mean())\n",
    "    # Merge features & targets\n",
    "    training_df = training_features.join(training_targets)\n",
    "    # Convert totals to df\n",
    "    targets_totals = pd.Series.to_frame(targets_totals)\n",
    "    # Get empty class rows\n",
    "    empty_rows = training_df.loc[(training_df['related'] == 0)]\n",
    "    # Get minority class rows \n",
    "    minority_rows = training_df.loc[(training_df['shops'] == 1) | (training_df['offer'] == 1) | (training_df['tools'] == 1) | (training_df['hospitals'] == 1) | (training_df['fire'] == 1) | (training_df['missing_people'] == 1) | (training_df['aid_centers'] == 1) | (training_df['clothing'] == 1) | (training_df['security'] == 1) | (training_df['cold'] == 1)]\n",
    "    minority_rows_balanced = resample(minority_rows, n_samples=training_features.shape[0], random_state=0, replace=True)\n",
    "    # Merge\n",
    "    balanced_df = pd.concat([empty_rows, minority_rows_balanced], ignore_index=True)\n",
    "    # Resplit features from targets\n",
    "    training_features_balanced = balanced_df[feature_names]\n",
    "    training_features_balanced = training_features_balanced.T.squeeze()\n",
    "    training_targets_balanced = balanced_df[target_names]\n",
    "    # Return balanced features & targets\n",
    "    return training_features_balanced, training_targets_balanced\n",
    "\n",
    "    \n",
    "X_train_bal, y_train_bal = balance_training_data(X_train, y_train)\n",
    "plot_target_feature_counts(y_train_bal)"
   ]
  },
  {
   "cell_type": "markdown",
   "metadata": {},
   "source": [
    "We can see how the lowest occuring categories have improved a bit in proportion to the rest, but not by much. Lets try training a model with the more balanced data."
   ]
  },
  {
   "cell_type": "code",
   "execution_count": 15,
   "metadata": {},
   "outputs": [
    {
     "name": "stdout",
     "output_type": "stream",
     "text": [
      "                        Accuracy  Precision    Recall        F1\n",
      "related                 0.795392   0.801812  0.972428  0.878916\n",
      "request                 0.903570   0.838946  0.523288  0.644544\n",
      "offer                   0.992218   0.000000  0.000000  0.000000\n",
      "aid_related             0.758773   0.804997  0.548077  0.652145\n",
      "medical_help            0.928746   0.625767  0.200787  0.304024\n",
      "medical_products        0.961245   0.704698  0.333333  0.452586\n",
      "search_and_rescue       0.970095   0.387097  0.205714  0.268657\n",
      "security                0.975435   0.080645  0.045872  0.058480\n",
      "military                0.968874   0.571429  0.222222  0.320000\n",
      "water                   0.963381   0.738636  0.637255  0.684211\n",
      "food                    0.955294   0.800287  0.783404  0.791756\n",
      "shelter                 0.947971   0.799499  0.550000  0.651685\n",
      "clothing                0.987641   0.489130  0.569620  0.526316\n",
      "money                   0.975282   0.409091  0.180000  0.250000\n",
      "missing_people          0.985352   0.245283  0.188406  0.213115\n",
      "refugees                0.963534   0.460938  0.257642  0.330532\n",
      "death                   0.966738   0.704762  0.486842  0.575875\n",
      "other_aid               0.873360   0.647059  0.089017  0.156504\n",
      "infrastructure_related  0.935917   0.633333  0.044393  0.082969\n",
      "transport               0.954532   0.532258  0.215686  0.306977\n",
      "buildings               0.957888   0.691729  0.281346  0.400000\n",
      "electricity             0.979249   0.464789  0.251908  0.326733\n",
      "tools                   0.992218   0.000000  0.000000  0.000000\n",
      "hospitals               0.984590   0.113636  0.074627  0.090090\n",
      "shops                   0.990235   0.038462  0.025000  0.030303\n",
      "aid_centers             0.983369   0.133333  0.078947  0.099174\n",
      "other_infrastructure    0.955752   0.304348  0.024911  0.046053\n",
      "weather_related         0.871071   0.872671  0.622715  0.726802\n",
      "floods                  0.957125   0.876751  0.569091  0.690187\n",
      "storm                   0.943699   0.732000  0.608985  0.664850\n",
      "fire                    0.987489   0.369863  0.428571  0.397059\n",
      "earthquake              0.970095   0.830088  0.824253  0.827160\n",
      "cold                    0.979860   0.576923  0.405405  0.476190\n",
      "other_weather           0.949039   0.543478  0.146199  0.230415\n",
      "direct_report           0.872597   0.801449  0.442046  0.569809\n",
      "MEAN SCORE              0.946789   0.532148  0.338228  0.392118\n"
     ]
    }
   ],
   "source": [
    "# Train pipeline with balanced data\n",
    "pipeline2.fit(X_train_bal, y_train_bal)\n",
    "\n",
    "# predict on test data\n",
    "y_pred3 = pipeline2.predict(X_test)\n",
    "\n",
    "# Re-structure returned numpy array as dataframe with same column names\n",
    "y_pred3 = pd.DataFrame(y_pred2)\n",
    "y_pred3.columns = target_names\n",
    "\n",
    "# Evaluate the model\n",
    "print(performance_report(y_test, y_pred3, target_names))"
   ]
  },
  {
   "cell_type": "markdown",
   "metadata": {},
   "source": [
    "But still not much improvement. Lets have a look at the classes and messages associated with samples in the lowest occuring classes."
   ]
  },
  {
   "cell_type": "code",
   "execution_count": 15,
   "metadata": {},
   "outputs": [
    {
     "data": {
      "text/plain": [
       "40        People from Dal blocked since Wednesday in Carrefour, we having water shortage, food and medical assistance.\n",
       "18044    A double suicide bombing at a busy marketplace in Borno State's largest city, Maiduguri, on 25 November, w...\n",
       "12476    calm before the storm heading home after making election calls ready to hunker down hey we are all in this...\n",
       "21073    The Government has started to demarcate and allocate plots in some areas, but over 230,000 people are stil...\n",
       "10220    RT gsdog7 RT Huge earthquake hits Haiti Links to specific relief efforts http tinyurl.com yg2hjhu via sami...\n",
       "14681    Since then, excessive rains have mitigated the anticipated improvements in food security, especially in th...\n",
       "5926                                           Ruelle Canne-a-Sucre Prolongue (Carrefour) We need tents, water, food. \n",
       "22837    We want to reach a stage where robust yam seed production techniques will use parts of the yam plant other...\n",
       "277                                             This did not just happen in Port au Prince it's up in Pot de Paix too.\n",
       "14764    JAKARTA, Jan 24 (AFP) - A strong earthquake shook Indonesia's Sulawesi island Monday, damaging dozens of s...\n",
       "Name: message, dtype: object"
      ]
     },
     "execution_count": 15,
     "metadata": {},
     "output_type": "execute_result"
    }
   ],
   "source": [
    "# Merge features & targets\n",
    "training_features = pd.Series.to_frame(X_train)\n",
    "target_names = y_train.columns.values\n",
    "training_df = training_features.join(y_train)\n",
    "# Get shop samples\n",
    "shops_df = training_df.loc[(training_df['shops'] == 1)]\n",
    "random_10_shops = shops_df.sample(n=10)\n",
    "# Show 10 random messages for shops category\n",
    "random_10_shops['message']"
   ]
  },
  {
   "cell_type": "markdown",
   "metadata": {},
   "source": [
    "Seems to be difficult to understand from these what these have to do with shops! Lets see the distrbution of other categories in the shop samples."
   ]
  },
  {
   "cell_type": "code",
   "execution_count": 16,
   "metadata": {},
   "outputs": [
    {
     "data": {
      "image/png": "[encoded data removed]",
      "text/plain": [
       "<Figure size 1080x720 with 1 Axes>"
      ]
     },
     "metadata": {},
     "output_type": "display_data"
    }
   ],
   "source": [
    "# Plot category counts of all shop category messages\n",
    "shops_target_classes_df = shops_df[target_names]\n",
    "plot_target_feature_counts(shops_target_classes_df)"
   ]
  },
  {
   "cell_type": "markdown",
   "metadata": {},
   "source": [
    "So we can see the samples with all shop categories is still very unbalanced. Lets look at the next lowest category - 'offer'."
   ]
  },
  {
   "cell_type": "code",
   "execution_count": 17,
   "metadata": {},
   "outputs": [
    {
     "data": {
      "text/plain": [
       "10788                               I can cook and would be happy to try to provide meals or serve in a soup kitchen .\n",
       "24448                    The medical help involves the setting up of U.S. military mobile surgical hospitals, he said.\n",
       "11257    I have canned goods , some jars of baby food ( stage 3 ) , children 's books , children 's puzzles , cards...\n",
       "15353    Initial assessment done have not yet identified the source of the outbreak, but the national task force ha...\n",
       "11312                                              When and Where should hot meals be delivered this evening ? 11/3/12\n",
       "10804                                                            I can help packing and distributing food and supplies\n",
       "20304    They receive free transport from Iran to Herat, where they receive a $10 travel grant, a tarpaulin, blanke...\n",
       "11221    Looking to donate new ( several-year shelf life , sealed ) non-prescription medications to any organizatio...\n",
       "11106                                                                   prepare food package , help to deliver food ..\n",
       "24231    In addition to the above, 300 navy boats with 29 teams from the Navy and Airforce are being kept ready to ...\n",
       "Name: message, dtype: object"
      ]
     },
     "execution_count": 17,
     "metadata": {},
     "output_type": "execute_result"
    }
   ],
   "source": [
    "# Get shop samples\n",
    "offer_df = training_df.loc[(training_df['offer'] == 1)]\n",
    "random_10_offer = offer_df.sample(n=10)\n",
    "# Show 10 random messages for offer category\n",
    "random_10_offer['message']"
   ]
  },
  {
   "cell_type": "markdown",
   "metadata": {},
   "source": [
    "Can you tell what might distinguish what an 'offer' is? lets see the category counts for all offer samples."
   ]
  },
  {
   "cell_type": "code",
   "execution_count": 18,
   "metadata": {},
   "outputs": [
    {
     "data": {
      "image/png": "[encoded data removed]",
      "text/plain": [
       "<Figure size 1080x720 with 1 Axes>"
      ]
     },
     "metadata": {},
     "output_type": "display_data"
    }
   ],
   "source": [
    "# Plot category counts of all offer category messages\n",
    "offer_target_classes_df = offer_df[target_names]\n",
    "plot_target_feature_counts(offer_target_classes_df)"
   ]
  },
  {
   "cell_type": "markdown",
   "metadata": {},
   "source": [
    "So even if we only use samples from minority classes, we can see how we are still building up an imbalanced dataset that is difficult to train on, let alone the fact that it seems very challenging for any ML model to learn what the categories have in common from the varied and often unclear message data!"
   ]
  },
  {
   "cell_type": "markdown",
   "metadata": {},
   "source": [
    "#### 8.3 Create new feature for starting verb with new model\n",
    "\n",
    "In NLP people use a wide range of features to train text classifiers. Some use parts of speech features (such as nouns, verbs etc) as features. With this in mind we will add a new feature that detects any starting verbs.\n",
    "\n",
    "https://www.nltk.org/book/ch06.html\n",
    "\n",
    "https://www.analyticsvidhya.com/blog/2018/04/a-comprehensive-guide-to-understand-and-implement-text-classification-in-python/"
   ]
  },
  {
   "cell_type": "code",
   "execution_count": 17,
   "metadata": {},
   "outputs": [],
   "source": [
    "class StartingVerbExtractor(BaseEstimator, TransformerMixin):\n",
    "\n",
    "    def starting_verb(self, text):\n",
    "        sentence_list = nltk.sent_tokenize(text)\n",
    "        for sentence in sentence_list:\n",
    "            pos_tags = nltk.pos_tag(tokenize(sentence))\n",
    "            if pos_tags:\n",
    "                first_word, first_tag = pos_tags[0]\n",
    "                #if first_tag in ['VB', 'VBP'] or first_word == 'RT':\n",
    "                #if first_tag in ['NN', 'NNS', 'NNP', 'NNPS']:\n",
    "                #    return True\n",
    "                return False\n",
    "        return False\n",
    "\n",
    "    def fit(self, X, y=None):\n",
    "        return self\n",
    "\n",
    "    def transform(self, X):\n",
    "        X_tagged = pd.Series(X).apply(self.starting_verb)\n",
    "        return pd.DataFrame(X_tagged)"
   ]
  },
  {
   "cell_type": "code",
   "execution_count": null,
   "metadata": {},
   "outputs": [],
   "source": [
    "# Define new pipeline adding starting verb feature\n",
    "pipeline3 = Pipeline([\n",
    "    ('features', FeatureUnion([\n",
    "\n",
    "        ('text_pipeline', Pipeline([\n",
    "            ('vect', CountVectorizer(tokenizer=tokenize)),\n",
    "            ('tfidf', TfidfTransformer())\n",
    "        ])),\n",
    "\n",
    "        ('starting_verb', StartingVerbExtractor())\n",
    "    ])),\n",
    "\n",
    "    ('clf', MultiOutputClassifier(GradientBoostingClassifier(random_state=1)))\n",
    "])\n",
    "\n",
    "# Train pipeline\n",
    "pipeline3.fit(X_train, y_train)\n",
    "\n",
    "# predict on test data\n",
    "y_pred4 = pipeline3.predict(X_test)\n",
    "\n",
    "# Re-structure returned numpy array as dataframe with same column names\n",
    "y_pred4 = pd.DataFrame(y_pred4)\n",
    "y_pred4.columns = target_names\n",
    "\n",
    "# Evaluate the model\n",
    "print(performance_report(y_test, y_pred4, target_names))"
   ]
  },
  {
   "cell_type": "markdown",
   "metadata": {},
   "source": [
    "The starting verb feature has not really helped improve the model."
   ]
  },
  {
   "cell_type": "markdown",
   "metadata": {},
   "source": [
    "#### 8.4 Combine new model & balanced data & verb feature"
   ]
  },
  {
   "cell_type": "code",
   "execution_count": 18,
   "metadata": {},
   "outputs": [
    {
     "name": "stdout",
     "output_type": "stream",
     "text": [
      "                        Accuracy  Precision    Recall        F1\n",
      "related                 0.791730   0.828876  0.916484  0.870481\n",
      "request                 0.885871   0.811490  0.412785  0.547215\n",
      "offer                   0.990388   0.024390  0.041667  0.030769\n",
      "aid_related             0.554318   0.479624  0.944527  0.636194\n",
      "medical_help            0.925694   0.554974  0.208661  0.303290\n",
      "medical_products        0.957278   0.624113  0.279365  0.385965\n",
      "search_and_rescue       0.974519   0.571429  0.182857  0.277056\n",
      "security                0.972994   0.153061  0.137615  0.144928\n",
      "military                0.969332   0.578947  0.254630  0.353698\n",
      "water                   0.952548   0.587703  0.796569  0.676379\n",
      "food                    0.949191   0.781250  0.738397  0.759219\n",
      "shelter                 0.945377   0.765550  0.551724  0.641283\n",
      "clothing                0.989777   0.568182  0.632911  0.598802\n",
      "money                   0.972078   0.305882  0.173333  0.221277\n",
      "missing_people          0.986268   0.266667  0.173913  0.210526\n",
      "refugees                0.964754   0.485714  0.148472  0.227425\n",
      "death                   0.966585   0.745665  0.424342  0.540881\n",
      "other_aid               0.865578   0.427273  0.054335  0.096410\n",
      "infrastructure_related  0.913030   0.269481  0.193925  0.225543\n",
      "transport               0.954837   0.534247  0.254902  0.345133\n",
      "buildings               0.959109   0.718519  0.296636  0.419913\n",
      "electricity             0.980623   0.521739  0.366412  0.430493\n",
      "tools                   0.992676   0.107143  0.115385  0.111111\n",
      "hospitals               0.983064   0.244186  0.313433  0.274510\n",
      "shops                   0.990235   0.071429  0.050000  0.058824\n",
      "aid_centers             0.974214   0.179310  0.342105  0.235294\n",
      "other_infrastructure    0.955447   0.280000  0.024911  0.045752\n",
      "weather_related         0.838114   0.697243  0.728532  0.712544\n",
      "floods                  0.953921   0.869048  0.530909  0.659142\n",
      "storm                   0.938511   0.723982  0.532446  0.613615\n",
      "fire                    0.988862   0.437500  0.555556  0.489510\n",
      "earthquake              0.966280   0.856557  0.734622  0.790918\n",
      "cold                    0.979402   0.536313  0.648649  0.587156\n",
      "other_weather           0.948123   0.510000  0.149123  0.230769\n",
      "direct_report           0.857644   0.750789  0.380496  0.505040\n",
      "MEAN SCORE              0.936811   0.510522  0.379732  0.407345\n"
     ]
    }
   ],
   "source": [
    "# Train pipeline\n",
    "pipeline3.fit(X_train_bal, y_train_bal)\n",
    "\n",
    "# predict on test data\n",
    "y_pred5 = pipeline3.predict(X_test)\n",
    "\n",
    "# Re-structure returned numpy array as dataframe with same column names\n",
    "y_pred5 = pd.DataFrame(y_pred5)\n",
    "y_pred5.columns = target_names\n",
    "\n",
    "# Evaluate the model\n",
    "print(performance_report(y_test, y_pred5, target_names))"
   ]
  },
  {
   "cell_type": "markdown",
   "metadata": {},
   "source": [
    "A slight improvement with this combination."
   ]
  },
  {
   "cell_type": "markdown",
   "metadata": {},
   "source": [
    "#### 8.5 Combine logistic model & balanced data"
   ]
  },
  {
   "cell_type": "code",
   "execution_count": 106,
   "metadata": {},
   "outputs": [
    {
     "name": "stdout",
     "output_type": "stream",
     "text": [
      "                        Accuracy  Precision    Recall        F1\n",
      "related                 0.786390   0.809548  0.941858  0.870706\n",
      "request                 0.883125   0.791150  0.408219  0.538554\n",
      "offer                   0.989930   0.022727  0.041667  0.029412\n",
      "aid_related             0.516173   0.459085  0.968935  0.622994\n",
      "medical_help            0.923558   0.516279  0.218504  0.307054\n",
      "medical_products        0.956057   0.585987  0.292063  0.389831\n",
      "search_and_rescue       0.974367   0.581395  0.142857  0.229358\n",
      "security                0.970552   0.171875  0.201835  0.185654\n",
      "military                0.968721   0.564706  0.222222  0.318937\n",
      "water                   0.951175   0.573090  0.845588  0.683168\n",
      "food                    0.947666   0.772997  0.732771  0.752347\n",
      "shelter                 0.948276   0.786223  0.570690  0.661339\n",
      "clothing                0.988862   0.531250  0.645570  0.582857\n",
      "money                   0.972536   0.352941  0.240000  0.285714\n",
      "missing_people          0.987489   0.324324  0.173913  0.226415\n",
      "refugees                0.966585   0.562500  0.196507  0.291262\n",
      "death                   0.965365   0.705882  0.434211  0.537678\n",
      "other_aid               0.867104   0.471154  0.056647  0.101135\n",
      "infrastructure_related  0.908148   0.251429  0.205607  0.226221\n",
      "transport               0.955752   0.560606  0.241830  0.337900\n",
      "buildings               0.957431   0.693548  0.262997  0.381375\n",
      "electricity             0.977418   0.376812  0.198473  0.260000\n",
      "tools                   0.990540   0.026316  0.038462  0.031250\n",
      "hospitals               0.983369   0.255814  0.328358  0.287582\n",
      "shops                   0.990235   0.038462  0.025000  0.030303\n",
      "aid_centers             0.973451   0.159722  0.302632  0.209091\n",
      "other_infrastructure    0.954532   0.185185  0.017794  0.032468\n",
      "weather_related         0.851999   0.732332  0.729086  0.730705\n",
      "floods                  0.954837   0.875740  0.538182  0.666667\n",
      "storm                   0.939426   0.720779  0.554077  0.626529\n",
      "fire                    0.988099   0.413793  0.571429  0.480000\n",
      "earthquake              0.966128   0.856263  0.732865  0.789773\n",
      "cold                    0.979707   0.543353  0.635135  0.585670\n",
      "other_weather           0.946597   0.456522  0.122807  0.193548\n",
      "direct_report           0.842691   0.720000  0.287770  0.411194\n",
      "MEAN SCORE              0.934980   0.498565  0.375045  0.396991\n"
     ]
    }
   ],
   "source": [
    "# Logistic regression\n",
    "# Define ML pipeline\n",
    "pipeline5 = Pipeline([\n",
    "        ('vect', CountVectorizer(tokenizer=tokenize)),\n",
    "        ('tfidf', TfidfTransformer()),\n",
    "        ('clf', MultiOutputClassifier(GradientBoostingClassifier(random_state=1)))\n",
    "    ])\n",
    "\n",
    "# Train pipeline\n",
    "pipeline5.fit(X_train_bal, y_train_bal)\n",
    "\n",
    "# predict on test data\n",
    "y_pred7 = pipeline5.predict(X_test)\n",
    "\n",
    "# Re-structure returned numpy array as dataframe with same column names\n",
    "y_pred7 = pd.DataFrame(y_pred7)\n",
    "y_pred7.columns = target_names\n",
    "\n",
    "# Evaluate the model\n",
    "print(performance_report(y_test, y_pred7, target_names))"
   ]
  },
  {
   "cell_type": "markdown",
   "metadata": {},
   "source": [
    "Again, not really much improvement with this combination."
   ]
  },
  {
   "cell_type": "markdown",
   "metadata": {},
   "source": [
    "#### 8.6 Create new feature for word embedding vector\n",
    "\n",
    "Word embeddings encourage a vectorisation of words into a feature space where words with a similar meaning occupy a similar part of the feature space. Could these feature help improve performance?\n",
    "\n",
    "The problem is our low occuring classes have few examples, so simply building a new word embedding model from our text data may not help us generalise so well. I will choose to use pre-trained word embedding models to see if this can help.\n",
    "\n",
    "##### Glove\n",
    "\n",
    "Glove is one word embedding model, as described here using a pre-trained model:\n",
    "\n",
    "https://nlp.stanford.edu/projects/glove/\n",
    "\n",
    "http://nadbordrozd.github.io/blog/2016/05/20/text-classification-with-word2vec/\n",
    "\n",
    "This model has been trained on 6 billion tokens, and has a vocabulary of 400,000 words - and creates 300 dimension feature vectors from text.\n",
    "\n",
    "Lets try pre-trained Glove word embeddings."
   ]
  },
  {
   "cell_type": "code",
   "execution_count": 33,
   "metadata": {},
   "outputs": [],
   "source": [
    "with open(\"glove.6B/glove.6B.300d.txt\", \"rb\") as lines:\n",
    "    w2v = {line.split()[0]: np.array(map(float, line.split()[1:]))\n",
    "           for line in lines}"
   ]
  },
  {
   "cell_type": "code",
   "execution_count": 34,
   "metadata": {},
   "outputs": [],
   "source": [
    "# Define vectorisers for glove word embeddings\n",
    "class MeanEmbeddingVectorizer(object):\n",
    "    def __init__(self, word2vec):\n",
    "        self.word2vec = word2vec\n",
    "        # if a text is empty we should return a vector of zeros\n",
    "        # with the same dimensionality as all the other vectors\n",
    "        #self.dim = len(word2vec.itervalues().next())\n",
    "        self.dim = 300\n",
    "\n",
    "    def fit(self, X, y):\n",
    "        return self\n",
    "\n",
    "    def transform(self, X):\n",
    "        return np.array([\n",
    "            np.mean([self.word2vec[w] for w in words if w in self.word2vec]\n",
    "                    or [np.zeros(self.dim)], axis=0)\n",
    "            for words in X\n",
    "        ])\n",
    "\n",
    "class TfidfEmbeddingVectorizer(object):\n",
    "    def __init__(self, word2vec):\n",
    "        self.word2vec = word2vec\n",
    "        self.word2weight = None\n",
    "        #self.dim = len(word2vec.itervalues().next())\n",
    "        #self.dim = len(next(iter(word2vec.values())))\n",
    "        self.dim = 300\n",
    "\n",
    "    def fit(self, X, y):\n",
    "        tfidf = TfidfVectorizer(analyzer=lambda x: x)\n",
    "        tfidf.fit(X)\n",
    "        # if a word was never seen - it must be at least as infrequent\n",
    "        # as any of the known words - so the default idf is the max of \n",
    "        # known idf's\n",
    "        max_idf = max(tfidf.idf_)\n",
    "        self.word2weight = defaultdict(\n",
    "            lambda: max_idf,\n",
    "            [(w, tfidf.idf_[i]) for w, i in tfidf.vocabulary_.items()])\n",
    "\n",
    "        return self\n",
    "\n",
    "    def transform(self, X):\n",
    "        return np.array([\n",
    "                np.mean([self.word2vec[w] * self.word2weight[w]\n",
    "                         for w in words if w in self.word2vec] or\n",
    "                        [np.zeros(self.dim)], axis=0)\n",
    "                for words in X\n",
    "            ])\n",
    "    "
   ]
  },
  {
   "cell_type": "code",
   "execution_count": 86,
   "metadata": {},
   "outputs": [
    {
     "name": "stderr",
     "output_type": "stream",
     "text": [
      "/anaconda3/lib/python3.6/site-packages/sklearn/linear_model/logistic.py:433: FutureWarning: Default solver will be changed to 'lbfgs' in 0.22. Specify a solver to silence this warning.\n",
      "  FutureWarning)\n",
      "/anaconda3/lib/python3.6/site-packages/sklearn/metrics/classification.py:1143: UndefinedMetricWarning: Precision is ill-defined and being set to 0.0 due to no predicted samples.\n",
      "  'precision', 'predicted', average, warn_for)\n",
      "/anaconda3/lib/python3.6/site-packages/sklearn/metrics/classification.py:1143: UndefinedMetricWarning: F-score is ill-defined and being set to 0.0 due to no predicted samples.\n",
      "  'precision', 'predicted', average, warn_for)\n"
     ]
    },
    {
     "name": "stdout",
     "output_type": "stream",
     "text": [
      "                        Accuracy  Precision    Recall        F1\n",
      "related                 0.821941   0.837496  0.951449  0.890843\n",
      "request                 0.901282   0.815493  0.528767  0.641551\n",
      "offer                   0.996338   0.000000  0.000000  0.000000\n",
      "aid_related             0.781660   0.774472  0.664201  0.715110\n",
      "medical_help            0.928898   0.664062  0.167323  0.267296\n",
      "medical_products        0.957125   0.702381  0.187302  0.295739\n",
      "search_and_rescue       0.974672   0.909091  0.057143  0.107527\n",
      "security                0.983369   0.000000  0.000000  0.000000\n",
      "military                0.968874   0.676471  0.106481  0.184000\n",
      "water                   0.959872   0.805907  0.468137  0.592248\n",
      "food                    0.942630   0.849687  0.572433  0.684034\n",
      "shelter                 0.941868   0.813880  0.444828  0.575251\n",
      "clothing                0.989930   0.882353  0.189873  0.312500\n",
      "money                   0.978029   0.666667  0.080000  0.142857\n",
      "missing_people          0.989625   1.000000  0.014493  0.028571\n",
      "refugees                0.965975   0.625000  0.065502  0.118577\n",
      "death                   0.962313   0.890411  0.213816  0.344828\n",
      "other_aid               0.875191   0.645963  0.120231  0.202729\n",
      "infrastructure_related  0.935612   0.625000  0.035047  0.066372\n",
      "transport               0.957736   0.853659  0.114379  0.201729\n",
      "buildings               0.956668   0.759036  0.192661  0.307317\n",
      "electricity             0.982606   0.793103  0.175573  0.287500\n",
      "tools                   0.996033   0.000000  0.000000  0.000000\n",
      "hospitals               0.989625   0.000000  0.000000  0.000000\n",
      "shops                   0.993897   0.000000  0.000000  0.000000\n",
      "aid_centers             0.988404   0.000000  0.000000  0.000000\n",
      "other_infrastructure    0.957278   0.545455  0.021352  0.041096\n",
      "weather_related         0.874123   0.860294  0.648199  0.739336\n",
      "floods                  0.947666   0.915663  0.414545  0.570713\n",
      "storm                   0.934391   0.750733  0.425957  0.543524\n",
      "fire                    0.990388   0.500000  0.015873  0.030769\n",
      "earthquake              0.963076   0.888361  0.657293  0.755556\n",
      "cold                    0.980165   0.875000  0.141892  0.244186\n",
      "other_weather           0.949649   0.833333  0.043860  0.083333\n",
      "direct_report           0.868477   0.775887  0.437250  0.559305\n",
      "MEAN SCORE              0.948154   0.643853  0.233025  0.300983\n"
     ]
    }
   ],
   "source": [
    "# Logistic regression\n",
    "# Define ML pipeline\n",
    "\n",
    "pipeline4 = Pipeline([\n",
    "    ('features', FeatureUnion([\n",
    "\n",
    "        ('text_pipeline', Pipeline([\n",
    "            ('vect', CountVectorizer(tokenizer=tokenize)),\n",
    "            ('tfidf', TfidfTransformer())\n",
    "        ])),\n",
    "\n",
    "        ('word2vec_vectorizer', MeanEmbeddingVectorizer(w2v))\n",
    "    ])),\n",
    "\n",
    "    ('clf', MultiOutputClassifier(LogisticRegression(random_state=1)))\n",
    "])\n",
    "\n",
    "\n",
    "\n",
    "# Train pipeline\n",
    "pipeline4.fit(X_train, y_train)\n",
    "\n",
    "# predict on test data\n",
    "y_pred6 = pipeline4.predict(X_test)\n",
    "\n",
    "# Re-structure returned numpy array as dataframe with same column names\n",
    "y_pred6 = pd.DataFrame(y_pred6)\n",
    "y_pred6.columns = target_names\n",
    "\n",
    "# Evaluate the model\n",
    "print(performance_report(y_test, y_pred6, target_names))"
   ]
  },
  {
   "cell_type": "markdown",
   "metadata": {},
   "source": [
    "So the glove pre-trained embedding feature vectoriser has not helped improve performance.\n",
    "\n",
    "##### Doc2vec\n",
    "\n",
    "Lets look at Doc2Vec pre-trained word embedding models, as described here:\n",
    "\n",
    "http://ai.intelligentonlinetools.com/ml/text-clustering-doc2vec-word-embedding-machine-learning/\n",
    "\n",
    "https://github.com/jhlau/doc2vec\n",
    "\n",
    "https://markroxor.github.io/gensim/static/notebooks/doc2vec-wikipedia.html\n",
    "\n",
    "https://arxiv.org/pdf/1507.07998.pdf\n",
    "\n",
    "We will used a pre-trained model trained on 4.5 million wikipedia articles, and has a vocabulary of just under 1 million words, that also generates 300 dimension feature vectors.\n",
    "\n",
    "Note: default doc2vec from genism library does not facilitate pre-trained models, to download a forked version that can install genism fresh via 'pip install -U gensim'."
   ]
  },
  {
   "cell_type": "code",
   "execution_count": 9,
   "metadata": {},
   "outputs": [
    {
     "name": "stdout",
     "output_type": "stream",
     "text": [
      "[ 1.05389304e-01  1.87241346e-01 -1.00067124e-01 -5.84028900e-01\n",
      "  1.07543826e-01 -1.25103831e-01  5.27499676e-01 -3.75652641e-01\n",
      "  1.17975600e-01 -2.81796735e-02 -2.52026796e-01 -5.09442866e-01\n",
      " -3.21979113e-02  5.03063910e-02 -9.26744118e-02  7.11919814e-02\n",
      " -3.74514908e-01 -1.73789307e-01 -4.19825137e-01 -1.91427618e-01\n",
      " -3.20386916e-01 -1.20774277e-01  6.60605073e-01 -2.06124559e-01\n",
      "  2.82651335e-01 -1.03867702e-01 -3.02995201e-02  2.58385479e-01\n",
      "  2.15882078e-01 -3.05927601e-02 -1.70235932e-01  2.70004213e-01\n",
      " -1.28700301e-01  4.80530083e-01  4.43913430e-01 -3.66875350e-01\n",
      "  2.82368422e-01  8.34432766e-02  2.97592998e-01  2.10374564e-01\n",
      " -4.34435606e-01 -2.89152443e-01  1.74317762e-01 -5.44270277e-01\n",
      " -2.76181340e-01  1.26449972e-01  1.77189916e-01  3.56412947e-01\n",
      " -7.53176287e-02 -7.59698525e-02 -5.08393534e-03 -1.90379962e-01\n",
      " -2.81680245e-02 -2.49372572e-01 -3.11455935e-01 -4.48736221e-01\n",
      " -9.68318954e-02 -1.48736425e-02 -1.02294259e-01 -7.75747327e-03\n",
      " -3.89026962e-02 -3.53648901e-01  2.12384481e-02 -6.82352483e-02\n",
      " -3.03487852e-02 -1.50125325e-01 -3.58133823e-01 -6.09233022e-01\n",
      " -3.81758779e-01 -4.49005067e-02 -3.47688615e-01  1.67845100e-01\n",
      " -2.41994172e-01  2.94996083e-01 -3.56902510e-01  5.75283051e-01\n",
      "  2.20480978e-01  5.77215962e-02 -1.93335771e-04  1.19412899e-01\n",
      "  2.76499063e-01  2.07106844e-01  3.19685638e-01 -1.37168050e-01\n",
      " -5.50463855e-01 -3.37839425e-02 -1.16108932e-01 -4.93645877e-01\n",
      "  5.59483051e-01 -2.56280750e-01  1.56705007e-01 -7.06306279e-01\n",
      "  4.33880061e-01 -1.59177184e-02  3.90694663e-02 -1.08630218e-01\n",
      " -1.33628622e-01 -5.64078033e-01  2.13117555e-01 -4.34925705e-01\n",
      " -3.03317815e-01 -5.24564506e-03 -2.17467532e-01  3.27868424e-02\n",
      "  9.21066254e-02 -5.56944549e-01 -3.10580522e-01  2.57777303e-01\n",
      " -3.60073298e-01  6.58024475e-02  1.20447285e-01  1.29155265e-02\n",
      " -5.24465978e-01  4.88230363e-02 -4.25387174e-01  2.87235051e-01\n",
      "  3.18777896e-02 -2.11745679e-01  1.84999883e-01  2.98808426e-01\n",
      " -3.43494326e-01 -1.80135339e-01  1.58824891e-01  5.82401529e-02\n",
      " -3.17710519e-01  4.77799252e-02 -3.02506387e-01 -4.96183634e-01\n",
      " -6.63834857e-04  7.76851326e-02  5.28123379e-01 -4.31440145e-01\n",
      " -6.12049848e-02 -2.87659407e-01 -2.06038337e-02 -2.22582862e-01\n",
      "  2.46728405e-01 -4.47185159e-01 -1.48763984e-01 -4.51815873e-02\n",
      " -3.21196113e-03  4.80970368e-02 -1.00949056e-01 -1.40826434e-01\n",
      " -4.52147834e-02  4.88156587e-01 -4.15200703e-02  4.25319709e-02\n",
      "  1.69473708e-01  6.46054804e-01  3.89645487e-01 -6.78750053e-02\n",
      "  8.71650130e-02  3.65553558e-01  1.53704941e-01  2.86747403e-02\n",
      "  1.21337667e-01 -2.84405023e-01 -1.91235822e-02 -2.05272570e-01\n",
      "  3.08977574e-01 -9.99808386e-02  4.07513976e-03  9.31824073e-02\n",
      "  2.64750570e-01 -1.31404281e-01 -1.49814601e-04  1.53074622e-01\n",
      "  6.28841758e-01  3.48244369e-01  1.74350873e-01  6.59637004e-02\n",
      "  4.02323455e-02  3.54363397e-02  4.65461403e-01 -7.28858262e-02\n",
      " -2.82445550e-01  3.21590036e-01 -4.98675555e-02  1.72930047e-01\n",
      "  1.25678182e-01  3.72142702e-01 -2.15357542e-01 -5.22496223e-01\n",
      "  2.62582004e-01  9.45821181e-02 -2.59785019e-02  1.95713826e-02\n",
      "  3.88473161e-02  5.14054596e-01 -2.16810539e-01 -9.72511828e-01\n",
      "  3.00325274e-01  2.85277188e-01 -1.03199268e-02  7.18292817e-02\n",
      "  3.76416296e-01  5.63194342e-02  2.66980886e-01 -4.77588713e-01\n",
      " -1.06341138e-01 -2.06976146e-01  2.45595410e-01 -1.67213410e-01\n",
      " -1.26754090e-01 -4.73161101e-01 -1.27872797e-02  1.69411704e-01\n",
      " -4.81302850e-02 -2.96189994e-01  4.11287546e-02  1.31624877e-01\n",
      " -1.79160595e-01 -3.64933997e-01 -4.30458874e-01 -1.42753460e-02\n",
      " -1.47867873e-01 -3.35441083e-01  4.02036868e-02 -9.18255362e-04\n",
      "  1.73511401e-01 -2.61289924e-01  1.16360940e-01  1.58215418e-01\n",
      " -4.28372651e-01 -9.63335857e-02 -6.09309673e-01  2.36605555e-01\n",
      " -1.40614927e-01  8.57911929e-02 -2.31171742e-01 -2.99862951e-01\n",
      "  1.71676800e-01  1.37325093e-01  2.99193442e-01  5.26120812e-02\n",
      " -1.26248449e-01  6.05177395e-02 -9.00050774e-02  2.21691027e-01\n",
      " -1.54082119e-01  7.62394071e-02 -2.76269257e-01  1.12100869e-01\n",
      " -3.78787220e-02  1.29795298e-01  4.99427170e-02 -1.84421450e-01\n",
      "  2.45877951e-01 -3.05840015e-01 -9.34068114e-02 -7.05072433e-02\n",
      "  4.19345140e-01 -3.67058963e-01 -1.13139702e-02  3.21381271e-01\n",
      "  4.45715874e-01 -8.68384689e-02 -3.28221500e-01 -3.74791771e-01\n",
      "  2.66350657e-01 -4.69112664e-01 -1.67671531e-01 -1.57059565e-01\n",
      "  3.18081081e-02 -2.83150673e-01  1.84176471e-02  3.75904553e-02\n",
      " -1.24146581e-01  3.09123397e-01 -3.93935084e-01 -1.85306579e-01\n",
      " -1.67175665e-01 -3.41573030e-01 -2.77022541e-01  3.10019165e-01\n",
      "  4.27478939e-01  1.90804005e-01  3.81326228e-02 -1.14155270e-01\n",
      " -1.80202514e-01  5.07765830e-01 -1.98834732e-01  7.46126706e-03\n",
      "  3.71668428e-01  2.85068333e-01 -1.07950699e-02 -1.65655941e-01\n",
      "  3.18403214e-01 -4.09968853e-01 -1.96621358e-01  2.01632261e-01\n",
      " -2.01181427e-01 -6.81699812e-02 -9.97488387e-03 -1.21440060e-01\n",
      " -2.03540072e-01  4.44254816e-01 -1.67612266e-02 -4.03775275e-01]\n"
     ]
    }
   ],
   "source": [
    "# Load pre-trained model from file \n",
    "model=\"doc2vec/doc2vec.bin\"\n",
    " \n",
    "#inference hyper-parameters\n",
    "start_alpha=0.01\n",
    "infer_epoch=1000\n",
    "\n",
    "# Load pre-trained model\n",
    "doc2vec = g.Doc2Vec.load(model)\n",
    "\n",
    "# Lets show an example 300 feature vector for the first message of our training set\n",
    "document = tokenize(X_train[0])\n",
    "vector = doc2vec.infer_vector(document, alpha=start_alpha, steps=infer_epoch)\n",
    "print((vector))"
   ]
  },
  {
   "cell_type": "code",
   "execution_count": 10,
   "metadata": {},
   "outputs": [
    {
     "name": "stderr",
     "output_type": "stream",
     "text": [
      "/anaconda3/lib/python3.6/site-packages/sklearn/linear_model/logistic.py:433: FutureWarning: Default solver will be changed to 'lbfgs' in 0.22. Specify a solver to silence this warning.\n",
      "  FutureWarning)\n",
      "/anaconda3/lib/python3.6/site-packages/sklearn/linear_model/logistic.py:433: FutureWarning: Default solver will be changed to 'lbfgs' in 0.22. Specify a solver to silence this warning.\n",
      "  FutureWarning)\n",
      "/anaconda3/lib/python3.6/site-packages/sklearn/linear_model/logistic.py:433: FutureWarning: Default solver will be changed to 'lbfgs' in 0.22. Specify a solver to silence this warning.\n",
      "  FutureWarning)\n",
      "/anaconda3/lib/python3.6/site-packages/sklearn/linear_model/logistic.py:433: FutureWarning: Default solver will be changed to 'lbfgs' in 0.22. Specify a solver to silence this warning.\n",
      "  FutureWarning)\n",
      "/anaconda3/lib/python3.6/site-packages/sklearn/linear_model/logistic.py:433: FutureWarning: Default solver will be changed to 'lbfgs' in 0.22. Specify a solver to silence this warning.\n",
      "  FutureWarning)\n",
      "/anaconda3/lib/python3.6/site-packages/sklearn/linear_model/logistic.py:433: FutureWarning: Default solver will be changed to 'lbfgs' in 0.22. Specify a solver to silence this warning.\n",
      "  FutureWarning)\n",
      "/anaconda3/lib/python3.6/site-packages/sklearn/linear_model/logistic.py:433: FutureWarning: Default solver will be changed to 'lbfgs' in 0.22. Specify a solver to silence this warning.\n",
      "  FutureWarning)\n",
      "/anaconda3/lib/python3.6/site-packages/sklearn/linear_model/logistic.py:433: FutureWarning: Default solver will be changed to 'lbfgs' in 0.22. Specify a solver to silence this warning.\n",
      "  FutureWarning)\n",
      "/anaconda3/lib/python3.6/site-packages/sklearn/linear_model/logistic.py:433: FutureWarning: Default solver will be changed to 'lbfgs' in 0.22. Specify a solver to silence this warning.\n",
      "  FutureWarning)\n",
      "/anaconda3/lib/python3.6/site-packages/sklearn/linear_model/logistic.py:433: FutureWarning: Default solver will be changed to 'lbfgs' in 0.22. Specify a solver to silence this warning.\n",
      "  FutureWarning)\n",
      "/anaconda3/lib/python3.6/site-packages/sklearn/linear_model/logistic.py:433: FutureWarning: Default solver will be changed to 'lbfgs' in 0.22. Specify a solver to silence this warning.\n",
      "  FutureWarning)\n",
      "/anaconda3/lib/python3.6/site-packages/sklearn/linear_model/logistic.py:433: FutureWarning: Default solver will be changed to 'lbfgs' in 0.22. Specify a solver to silence this warning.\n",
      "  FutureWarning)\n",
      "/anaconda3/lib/python3.6/site-packages/sklearn/linear_model/logistic.py:433: FutureWarning: Default solver will be changed to 'lbfgs' in 0.22. Specify a solver to silence this warning.\n",
      "  FutureWarning)\n",
      "/anaconda3/lib/python3.6/site-packages/sklearn/linear_model/logistic.py:433: FutureWarning: Default solver will be changed to 'lbfgs' in 0.22. Specify a solver to silence this warning.\n",
      "  FutureWarning)\n",
      "/anaconda3/lib/python3.6/site-packages/sklearn/linear_model/logistic.py:433: FutureWarning: Default solver will be changed to 'lbfgs' in 0.22. Specify a solver to silence this warning.\n",
      "  FutureWarning)\n",
      "/anaconda3/lib/python3.6/site-packages/sklearn/linear_model/logistic.py:433: FutureWarning: Default solver will be changed to 'lbfgs' in 0.22. Specify a solver to silence this warning.\n",
      "  FutureWarning)\n",
      "/anaconda3/lib/python3.6/site-packages/sklearn/linear_model/logistic.py:433: FutureWarning: Default solver will be changed to 'lbfgs' in 0.22. Specify a solver to silence this warning.\n",
      "  FutureWarning)\n",
      "/anaconda3/lib/python3.6/site-packages/sklearn/linear_model/logistic.py:433: FutureWarning: Default solver will be changed to 'lbfgs' in 0.22. Specify a solver to silence this warning.\n",
      "  FutureWarning)\n",
      "/anaconda3/lib/python3.6/site-packages/sklearn/linear_model/logistic.py:433: FutureWarning: Default solver will be changed to 'lbfgs' in 0.22. Specify a solver to silence this warning.\n",
      "  FutureWarning)\n",
      "/anaconda3/lib/python3.6/site-packages/sklearn/linear_model/logistic.py:433: FutureWarning: Default solver will be changed to 'lbfgs' in 0.22. Specify a solver to silence this warning.\n",
      "  FutureWarning)\n",
      "/anaconda3/lib/python3.6/site-packages/sklearn/linear_model/logistic.py:433: FutureWarning: Default solver will be changed to 'lbfgs' in 0.22. Specify a solver to silence this warning.\n",
      "  FutureWarning)\n",
      "/anaconda3/lib/python3.6/site-packages/sklearn/linear_model/logistic.py:433: FutureWarning: Default solver will be changed to 'lbfgs' in 0.22. Specify a solver to silence this warning.\n",
      "  FutureWarning)\n",
      "/anaconda3/lib/python3.6/site-packages/sklearn/linear_model/logistic.py:433: FutureWarning: Default solver will be changed to 'lbfgs' in 0.22. Specify a solver to silence this warning.\n",
      "  FutureWarning)\n",
      "/anaconda3/lib/python3.6/site-packages/sklearn/linear_model/logistic.py:433: FutureWarning: Default solver will be changed to 'lbfgs' in 0.22. Specify a solver to silence this warning.\n",
      "  FutureWarning)\n",
      "/anaconda3/lib/python3.6/site-packages/sklearn/linear_model/logistic.py:433: FutureWarning: Default solver will be changed to 'lbfgs' in 0.22. Specify a solver to silence this warning.\n",
      "  FutureWarning)\n",
      "/anaconda3/lib/python3.6/site-packages/sklearn/linear_model/logistic.py:433: FutureWarning: Default solver will be changed to 'lbfgs' in 0.22. Specify a solver to silence this warning.\n",
      "  FutureWarning)\n",
      "/anaconda3/lib/python3.6/site-packages/sklearn/linear_model/logistic.py:433: FutureWarning: Default solver will be changed to 'lbfgs' in 0.22. Specify a solver to silence this warning.\n",
      "  FutureWarning)\n",
      "/anaconda3/lib/python3.6/site-packages/sklearn/linear_model/logistic.py:433: FutureWarning: Default solver will be changed to 'lbfgs' in 0.22. Specify a solver to silence this warning.\n",
      "  FutureWarning)\n",
      "/anaconda3/lib/python3.6/site-packages/sklearn/linear_model/logistic.py:433: FutureWarning: Default solver will be changed to 'lbfgs' in 0.22. Specify a solver to silence this warning.\n",
      "  FutureWarning)\n",
      "/anaconda3/lib/python3.6/site-packages/sklearn/linear_model/logistic.py:433: FutureWarning: Default solver will be changed to 'lbfgs' in 0.22. Specify a solver to silence this warning.\n",
      "  FutureWarning)\n",
      "/anaconda3/lib/python3.6/site-packages/sklearn/linear_model/logistic.py:433: FutureWarning: Default solver will be changed to 'lbfgs' in 0.22. Specify a solver to silence this warning.\n",
      "  FutureWarning)\n",
      "/anaconda3/lib/python3.6/site-packages/sklearn/linear_model/logistic.py:433: FutureWarning: Default solver will be changed to 'lbfgs' in 0.22. Specify a solver to silence this warning.\n",
      "  FutureWarning)\n",
      "/anaconda3/lib/python3.6/site-packages/sklearn/linear_model/logistic.py:433: FutureWarning: Default solver will be changed to 'lbfgs' in 0.22. Specify a solver to silence this warning.\n",
      "  FutureWarning)\n",
      "/anaconda3/lib/python3.6/site-packages/sklearn/linear_model/logistic.py:433: FutureWarning: Default solver will be changed to 'lbfgs' in 0.22. Specify a solver to silence this warning.\n",
      "  FutureWarning)\n",
      "/anaconda3/lib/python3.6/site-packages/sklearn/linear_model/logistic.py:433: FutureWarning: Default solver will be changed to 'lbfgs' in 0.22. Specify a solver to silence this warning.\n",
      "  FutureWarning)\n",
      "/anaconda3/lib/python3.6/site-packages/sklearn/metrics/classification.py:1143: UndefinedMetricWarning: Precision is ill-defined and being set to 0.0 due to no predicted samples.\n",
      "  'precision', 'predicted', average, warn_for)\n",
      "/anaconda3/lib/python3.6/site-packages/sklearn/metrics/classification.py:1143: UndefinedMetricWarning: F-score is ill-defined and being set to 0.0 due to no predicted samples.\n",
      "  'precision', 'predicted', average, warn_for)\n"
     ]
    },
    {
     "name": "stdout",
     "output_type": "stream",
     "text": [
      "                        Accuracy  Precision    Recall        F1\n",
      "related                 0.824382   0.856984  0.924276  0.889359\n",
      "request                 0.887702   0.773212  0.463927  0.579909\n",
      "offer                   0.996338   0.000000  0.000000  0.000000\n",
      "aid_related             0.767013   0.755315  0.643861  0.695149\n",
      "medical_help            0.928898   0.600962  0.246063  0.349162\n",
      "medical_products        0.956057   0.613445  0.231746  0.336406\n",
      "search_and_rescue       0.974367   0.684211  0.074286  0.134021\n",
      "security                0.982911   0.200000  0.009174  0.017544\n",
      "military                0.972383   0.633588  0.384259  0.478386\n",
      "water                   0.950870   0.691964  0.379902  0.490506\n",
      "food                    0.935459   0.749135  0.609001  0.671839\n",
      "shelter                 0.942478   0.773585  0.494828  0.603575\n",
      "clothing                0.990235   0.674419  0.367089  0.475410\n",
      "money                   0.978334   0.564516  0.233333  0.330189\n",
      "missing_people          0.989319   0.333333  0.014493  0.027778\n",
      "refugees                0.967196   0.594595  0.192140  0.290429\n",
      "death                   0.959414   0.663793  0.253289  0.366667\n",
      "other_aid               0.868477   0.509677  0.091329  0.154902\n",
      "infrastructure_related  0.935154   0.526316  0.070093  0.123711\n",
      "transport               0.958499   0.757576  0.163399  0.268817\n",
      "buildings               0.955752   0.641221  0.256881  0.366812\n",
      "electricity             0.983522   0.734694  0.274809  0.400000\n",
      "tools                   0.995575   0.200000  0.038462  0.064516\n",
      "hospitals               0.989625   0.333333  0.014925  0.028571\n",
      "shops                   0.993744   0.000000  0.000000  0.000000\n",
      "aid_centers             0.987946   0.000000  0.000000  0.000000\n",
      "other_infrastructure    0.957278   0.513514  0.067616  0.119497\n",
      "weather_related         0.881446   0.816893  0.734072  0.773271\n",
      "floods                  0.949496   0.819242  0.510909  0.629339\n",
      "storm                   0.937138   0.706783  0.537438  0.610586\n",
      "fire                    0.991150   0.727273  0.126984  0.216216\n",
      "earthquake              0.969332   0.833333  0.808436  0.820696\n",
      "cold                    0.982148   0.724638  0.337838  0.460829\n",
      "other_weather           0.947360   0.469388  0.067251  0.117647\n",
      "direct_report           0.855050   0.738510  0.372502  0.495218\n",
      "MEAN SCORE              0.946916   0.577584  0.285560  0.353913\n"
     ]
    }
   ],
   "source": [
    "# Create a transformer class for our pipeline that uses the pre-trained doc2vec model\n",
    "# Logistic regression\n",
    "class Doc2vecVectorizer(object):\n",
    "    def __init__(self, doc2vec):\n",
    "        self.doc2vec = doc2vec\n",
    "\n",
    "    def fit(self, X, y):\n",
    "        return self\n",
    "\n",
    "    def transform(self, X):\n",
    "        return np.asmatrix(np.array([self.doc2vec.infer_vector(tokenize(document)) for document in X]))\n",
    "\n",
    "    \n",
    "    \n",
    "# Define new pipeline\n",
    "pipeline6 = Pipeline([\n",
    "        ('doc2vec_vectorizer', Doc2vecVectorizer(doc2vec)),\n",
    "        ('clf', MultiOutputClassifier(LogisticRegression(random_state=1)))\n",
    "    ])\n",
    "\n",
    "# Train pipeline\n",
    "pipeline6.fit(X_train, y_train)\n",
    "\n",
    "# predict on test data\n",
    "y_pred7 = pipeline6.predict(X_test)\n",
    "\n",
    "# Re-structure returned numpy array as dataframe with same column names\n",
    "y_pred7 = pd.DataFrame(y_pred7)\n",
    "y_pred7.columns = target_names\n",
    "\n",
    "# Evaluate the model\n",
    "print(performance_report(y_test, y_pred7, target_names))"
   ]
  },
  {
   "cell_type": "code",
   "execution_count": 11,
   "metadata": {},
   "outputs": [
    {
     "name": "stdout",
     "output_type": "stream",
     "text": [
      "                        Accuracy  Precision    Recall        F1\n",
      "related                 0.826060   0.847509  0.941658  0.892107\n",
      "request                 0.884956   0.787521  0.426484  0.553318\n",
      "offer                   0.992524   0.000000  0.000000  0.000000\n",
      "aid_related             0.756485   0.738587  0.634246  0.682451\n",
      "medical_help            0.931492   0.680982  0.218504  0.330849\n",
      "medical_products        0.953158   0.540000  0.171429  0.260241\n",
      "search_and_rescue       0.970857   0.192308  0.028571  0.049751\n",
      "security                0.977571   0.047619  0.018349  0.026490\n",
      "military                0.970095   0.590909  0.300926  0.398773\n",
      "water                   0.942936   0.639344  0.191176  0.294340\n",
      "food                    0.917608   0.713217  0.402250  0.514388\n",
      "shelter                 0.934239   0.792157  0.348276  0.483832\n",
      "clothing                0.986421   0.391304  0.227848  0.288000\n",
      "money                   0.975587   0.407407  0.146667  0.215686\n",
      "missing_people          0.982911   0.042553  0.028986  0.034483\n",
      "refugees                0.962618   0.362069  0.091703  0.146341\n",
      "death                   0.957431   0.634409  0.194079  0.297229\n",
      "other_aid               0.867409   0.464286  0.030058  0.056460\n",
      "infrastructure_related  0.933933   0.424242  0.032710  0.060738\n",
      "transport               0.954837   0.580645  0.117647  0.195652\n",
      "buildings               0.956363   0.741176  0.192661  0.305825\n",
      "electricity             0.978181   0.380000  0.145038  0.209945\n",
      "tools                   0.991913   0.034483  0.038462  0.036364\n",
      "hospitals               0.986115   0.071429  0.029851  0.042105\n",
      "shops                   0.991150   0.000000  0.000000  0.000000\n",
      "aid_centers             0.983064   0.073171  0.039474  0.051282\n",
      "other_infrastructure    0.956210   0.411765  0.049822  0.088889\n",
      "weather_related         0.867867   0.807466  0.683102  0.740096\n",
      "floods                  0.936527   0.765873  0.350909  0.481297\n",
      "storm                   0.929204   0.684636  0.422629  0.522634\n",
      "fire                    0.985200   0.075000  0.047619  0.058252\n",
      "earthquake              0.956973   0.809935  0.659051  0.726744\n",
      "cold                    0.976655   0.460317  0.195946  0.274882\n",
      "other_weather           0.946597   0.346154  0.026316  0.048913\n",
      "direct_report           0.848184   0.725352  0.329337  0.452996\n",
      "MEAN SCORE              0.941981   0.464681  0.221765  0.280610\n"
     ]
    }
   ],
   "source": [
    "# Define new pipeline\n",
    "# Gradient boosting\n",
    "pipeline7 = Pipeline([\n",
    "        ('doc2vec_vectorizer', Doc2vecVectorizer(doc2vec)),\n",
    "        ('clf', MultiOutputClassifier(GradientBoostingClassifier(random_state=1)))\n",
    "    ])\n",
    "\n",
    "# Train pipeline\n",
    "pipeline7.fit(X_train, y_train)\n",
    "\n",
    "# predict on test data\n",
    "y_pred8 = pipeline7.predict(X_test)\n",
    "\n",
    "# Re-structure returned numpy array as dataframe with same column names\n",
    "y_pred8 = pd.DataFrame(y_pred8)\n",
    "y_pred8.columns = target_names\n",
    "\n",
    "# Evaluate the model\n",
    "print(performance_report(y_test, y_pred8, target_names))"
   ]
  },
  {
   "cell_type": "markdown",
   "metadata": {},
   "source": [
    "### 9. Summary of best improvements\n",
    "\n",
    "So the model with the best f1 score was the gradient boosting model, with balanced data & starting verb feature - which gives us a mean F1 score of 0.407.\n",
    "\n",
    "We also know that while this is the mean, there is high variance in the results for each category - some target categories have very good scores, while others have very poor scores. The possible reasons for this highlighted earlier include:\n",
    "\n",
    "- Some categories have very few examples (around 100)\n",
    "- The content of the messages for many of these low value categories seem particularly difficult to correlate (to humans anyway!)\n",
    "\n",
    "Therefore, with such variable results it is difficult to see how we could deploy even this best model. However, if we use a 'triage' approach from medicine - if we only trained a model on those categories that have an F1 score of more than 0.5, while it could not be used to predict certain categories, those that it did it could do so more reliably - making the whole model more reliable.\n",
    "\n",
    "For our best model, the categories (excluding the questionable 'related' category) that have a F1 score of at least 0.5 are:\n",
    "\n",
    "- earthquake - 0.790918\n",
    "- food - 0.759219\n",
    "- weather_related - 0.712544\n",
    "- water - 0.676379\n",
    "- floods - 0.659142\n",
    "- shelter - 0.641283\n",
    "- aid_related - 0.636194\n",
    "- storm - 0.613615\n",
    "- clothing - 0.598802\n",
    "- cold - 0.587156\n",
    "- request - 0.547215\n",
    "- death - 0.540881\n",
    "- direct_report - 0.505040\n",
    "\n",
    "We will therefore re-train our best model, to target only these categories and will then run a grid search on these in our command line application."
   ]
  },
  {
   "cell_type": "code",
   "execution_count": null,
   "metadata": {},
   "outputs": [],
   "source": [
    "# Subset data to predict only top performing categories\n",
    "target_names_best = ['aid_related', 'water', 'food', 'shelter', 'clothing', 'death', 'weather_related', 'floods', 'storm', 'earthquake', 'cold', 'request', 'direct_report']\n",
    "Y_best = df[target_names_best]\n",
    "# Split data into train and test\n",
    "X_train, X_test, Y_train_best, Y_test_best = train_test_split(X, Y_best, random_state=49)\n",
    "\n",
    "# Run best model on data\n",
    "pipeline_best = Pipeline([\n",
    "        ('vect', CountVectorizer(tokenizer=tokenize)),\n",
    "        ('tfidf', TfidfTransformer()),\n",
    "        ('clf', MultiOutputClassifier(GradientBoostingClassifier(random_state=1)))\n",
    "    ])\n",
    "\n",
    "# Train pipeline\n",
    "pipeline_best.fit(X_train, Y_train_best)\n",
    "\n",
    "# predict on test data\n",
    "y_pred8 = pipeline_best.predict(X_test)\n",
    "\n",
    "# Re-structure returned numpy array as dataframe with same column names\n",
    "y_pred8 = pd.DataFrame(y_pred8)\n",
    "y_pred8.columns = target_names_best\n",
    "\n",
    "# Evaluate the model\n",
    "print(performance_report(y_test, y_pred8, target_names_best))"
   ]
  },
  {
   "cell_type": "code",
   "execution_count": null,
   "metadata": {},
   "outputs": [],
   "source": [
    "print(pipeline_best.steps)"
   ]
  },
  {
   "cell_type": "markdown",
   "metadata": {},
   "source": [
    "This model now has a mean F1 score of XX for the top 13 target categories."
   ]
  },
  {
   "cell_type": "markdown",
   "metadata": {},
   "source": [
    "### 10. Export the model and subset data"
   ]
  },
  {
   "cell_type": "code",
   "execution_count": 19,
   "metadata": {},
   "outputs": [
    {
     "data": {
      "text/plain": [
       "['final_model.sav']"
      ]
     },
     "execution_count": 19,
     "metadata": {},
     "output_type": "execute_result"
    }
   ],
   "source": [
    "# save the model as pickle file to disk\n",
    "filename = 'final_model.sav'\n",
    "joblib.dump(pipeline_best, 'final_model.sav')"
   ]
  },
  {
   "cell_type": "code",
   "execution_count": null,
   "metadata": {},
   "outputs": [],
   "source": [
    "# Merge optimised features & targets\n",
    "features_opt = pd.Series.to_frame(X)\n",
    "training__opt_df = features_opt.join(Y_best)\n",
    "# Delete previous db\n",
    "os.remove(\"DisasterResponseOpt.db\")\n",
    "# Save current version of database\n",
    "engine = db.create_engine('sqlite:///DisasterMessagesOpt.db')\n",
    "training__opt_df.to_sql('DisasterMessagesOpt', engine, index=False)"
   ]
  }
 ],
 "metadata": {
  "kernelspec": {
   "display_name": "Python 3",
   "language": "python",
   "name": "python3"
  },
  "language_info": {
   "codemirror_mode": {
    "name": "ipython",
    "version": 3
   },
   "file_extension": ".py",
   "mimetype": "text/x-python",
   "name": "python",
   "nbconvert_exporter": "python",
   "pygments_lexer": "ipython3",
   "version": "3.6.8"
  }
 },
 "nbformat": 4,
 "nbformat_minor": 2
}
